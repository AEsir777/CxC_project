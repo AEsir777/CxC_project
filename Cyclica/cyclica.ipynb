{
 "cells": [
  {
   "cell_type": "code",
   "execution_count": 10,
   "id": "130180cd",
   "metadata": {},
   "outputs": [],
   "source": [
    "import pandas as pd\n",
    "import numpy as np\n",
    "import matplotlib.pyplot as plt"
   ]
  },
  {
   "cell_type": "code",
   "execution_count": 11,
   "id": "27400bf8",
   "metadata": {},
   "outputs": [],
   "source": [
    "import seaborn as sns"
   ]
  },
  {
   "cell_type": "code",
   "execution_count": 2,
   "id": "09034ea4",
   "metadata": {},
   "outputs": [
    {
     "data": {
      "text/html": [
       "<div>\n",
       "<style scoped>\n",
       "    .dataframe tbody tr th:only-of-type {\n",
       "        vertical-align: middle;\n",
       "    }\n",
       "\n",
       "    .dataframe tbody tr th {\n",
       "        vertical-align: top;\n",
       "    }\n",
       "\n",
       "    .dataframe thead th {\n",
       "        text-align: right;\n",
       "    }\n",
       "</style>\n",
       "<table border=\"1\" class=\"dataframe\">\n",
       "  <thead>\n",
       "    <tr style=\"text-align: right;\">\n",
       "      <th></th>\n",
       "      <th>annotation_sequence</th>\n",
       "      <th>feat_A</th>\n",
       "      <th>feat_C</th>\n",
       "      <th>feat_D</th>\n",
       "      <th>feat_E</th>\n",
       "      <th>feat_F</th>\n",
       "      <th>feat_G</th>\n",
       "      <th>feat_H</th>\n",
       "      <th>feat_I</th>\n",
       "      <th>feat_K</th>\n",
       "      <th>...</th>\n",
       "      <th>feat_DSSP_10</th>\n",
       "      <th>feat_DSSP_11</th>\n",
       "      <th>feat_DSSP_12</th>\n",
       "      <th>feat_DSSP_13</th>\n",
       "      <th>coord_X</th>\n",
       "      <th>coord_Y</th>\n",
       "      <th>coord_Z</th>\n",
       "      <th>entry</th>\n",
       "      <th>entry_index</th>\n",
       "      <th>y_Ligand</th>\n",
       "    </tr>\n",
       "  </thead>\n",
       "  <tbody>\n",
       "    <tr>\n",
       "      <th>0</th>\n",
       "      <td>M</td>\n",
       "      <td>False</td>\n",
       "      <td>False</td>\n",
       "      <td>False</td>\n",
       "      <td>False</td>\n",
       "      <td>False</td>\n",
       "      <td>False</td>\n",
       "      <td>False</td>\n",
       "      <td>False</td>\n",
       "      <td>False</td>\n",
       "      <td>...</td>\n",
       "      <td>0</td>\n",
       "      <td>0.0</td>\n",
       "      <td>47</td>\n",
       "      <td>-0.0</td>\n",
       "      <td>-26.499001</td>\n",
       "      <td>-4.742000</td>\n",
       "      <td>-35.189999</td>\n",
       "      <td>GEMI5_HUMAN</td>\n",
       "      <td>0</td>\n",
       "      <td>False</td>\n",
       "    </tr>\n",
       "    <tr>\n",
       "      <th>1</th>\n",
       "      <td>G</td>\n",
       "      <td>False</td>\n",
       "      <td>False</td>\n",
       "      <td>False</td>\n",
       "      <td>False</td>\n",
       "      <td>False</td>\n",
       "      <td>True</td>\n",
       "      <td>False</td>\n",
       "      <td>False</td>\n",
       "      <td>False</td>\n",
       "      <td>...</td>\n",
       "      <td>0</td>\n",
       "      <td>0.0</td>\n",
       "      <td>0</td>\n",
       "      <td>0.0</td>\n",
       "      <td>-25.158001</td>\n",
       "      <td>-1.342000</td>\n",
       "      <td>-34.104000</td>\n",
       "      <td>GEMI5_HUMAN</td>\n",
       "      <td>1</td>\n",
       "      <td>False</td>\n",
       "    </tr>\n",
       "    <tr>\n",
       "      <th>2</th>\n",
       "      <td>Q</td>\n",
       "      <td>False</td>\n",
       "      <td>False</td>\n",
       "      <td>False</td>\n",
       "      <td>False</td>\n",
       "      <td>False</td>\n",
       "      <td>False</td>\n",
       "      <td>False</td>\n",
       "      <td>False</td>\n",
       "      <td>False</td>\n",
       "      <td>...</td>\n",
       "      <td>1</td>\n",
       "      <td>-0.0</td>\n",
       "      <td>-1</td>\n",
       "      <td>-0.0</td>\n",
       "      <td>-21.926001</td>\n",
       "      <td>-1.641000</td>\n",
       "      <td>-32.175999</td>\n",
       "      <td>GEMI5_HUMAN</td>\n",
       "      <td>2</td>\n",
       "      <td>False</td>\n",
       "    </tr>\n",
       "    <tr>\n",
       "      <th>3</th>\n",
       "      <td>E</td>\n",
       "      <td>False</td>\n",
       "      <td>False</td>\n",
       "      <td>False</td>\n",
       "      <td>True</td>\n",
       "      <td>False</td>\n",
       "      <td>False</td>\n",
       "      <td>False</td>\n",
       "      <td>False</td>\n",
       "      <td>False</td>\n",
       "      <td>...</td>\n",
       "      <td>706</td>\n",
       "      <td>-0.1</td>\n",
       "      <td>705</td>\n",
       "      <td>-0.0</td>\n",
       "      <td>-22.073999</td>\n",
       "      <td>0.654000</td>\n",
       "      <td>-29.171000</td>\n",
       "      <td>GEMI5_HUMAN</td>\n",
       "      <td>3</td>\n",
       "      <td>False</td>\n",
       "    </tr>\n",
       "    <tr>\n",
       "      <th>4</th>\n",
       "      <td>P</td>\n",
       "      <td>False</td>\n",
       "      <td>False</td>\n",
       "      <td>False</td>\n",
       "      <td>False</td>\n",
       "      <td>False</td>\n",
       "      <td>False</td>\n",
       "      <td>False</td>\n",
       "      <td>False</td>\n",
       "      <td>False</td>\n",
       "      <td>...</td>\n",
       "      <td>0</td>\n",
       "      <td>0.0</td>\n",
       "      <td>705</td>\n",
       "      <td>-0.2</td>\n",
       "      <td>-19.783001</td>\n",
       "      <td>2.670000</td>\n",
       "      <td>-26.858999</td>\n",
       "      <td>GEMI5_HUMAN</td>\n",
       "      <td>4</td>\n",
       "      <td>False</td>\n",
       "    </tr>\n",
       "    <tr>\n",
       "      <th>...</th>\n",
       "      <td>...</td>\n",
       "      <td>...</td>\n",
       "      <td>...</td>\n",
       "      <td>...</td>\n",
       "      <td>...</td>\n",
       "      <td>...</td>\n",
       "      <td>...</td>\n",
       "      <td>...</td>\n",
       "      <td>...</td>\n",
       "      <td>...</td>\n",
       "      <td>...</td>\n",
       "      <td>...</td>\n",
       "      <td>...</td>\n",
       "      <td>...</td>\n",
       "      <td>...</td>\n",
       "      <td>...</td>\n",
       "      <td>...</td>\n",
       "      <td>...</td>\n",
       "      <td>...</td>\n",
       "      <td>...</td>\n",
       "      <td>...</td>\n",
       "    </tr>\n",
       "    <tr>\n",
       "      <th>755</th>\n",
       "      <td>S</td>\n",
       "      <td>False</td>\n",
       "      <td>False</td>\n",
       "      <td>False</td>\n",
       "      <td>False</td>\n",
       "      <td>False</td>\n",
       "      <td>False</td>\n",
       "      <td>False</td>\n",
       "      <td>False</td>\n",
       "      <td>False</td>\n",
       "      <td>...</td>\n",
       "      <td>-3</td>\n",
       "      <td>-0.1</td>\n",
       "      <td>2</td>\n",
       "      <td>-0.4</td>\n",
       "      <td>-19.742001</td>\n",
       "      <td>20.796000</td>\n",
       "      <td>-12.319000</td>\n",
       "      <td>AOC3_HUMAN</td>\n",
       "      <td>755</td>\n",
       "      <td>False</td>\n",
       "    </tr>\n",
       "    <tr>\n",
       "      <th>756</th>\n",
       "      <td>H</td>\n",
       "      <td>False</td>\n",
       "      <td>False</td>\n",
       "      <td>False</td>\n",
       "      <td>False</td>\n",
       "      <td>False</td>\n",
       "      <td>False</td>\n",
       "      <td>True</td>\n",
       "      <td>False</td>\n",
       "      <td>False</td>\n",
       "      <td>...</td>\n",
       "      <td>-358</td>\n",
       "      <td>-0.1</td>\n",
       "      <td>-330</td>\n",
       "      <td>-0.1</td>\n",
       "      <td>-16.299000</td>\n",
       "      <td>19.153999</td>\n",
       "      <td>-12.640000</td>\n",
       "      <td>AOC3_HUMAN</td>\n",
       "      <td>756</td>\n",
       "      <td>False</td>\n",
       "    </tr>\n",
       "    <tr>\n",
       "      <th>757</th>\n",
       "      <td>G</td>\n",
       "      <td>False</td>\n",
       "      <td>False</td>\n",
       "      <td>False</td>\n",
       "      <td>False</td>\n",
       "      <td>False</td>\n",
       "      <td>True</td>\n",
       "      <td>False</td>\n",
       "      <td>False</td>\n",
       "      <td>False</td>\n",
       "      <td>...</td>\n",
       "      <td>-360</td>\n",
       "      <td>-0.2</td>\n",
       "      <td>-1</td>\n",
       "      <td>-0.1</td>\n",
       "      <td>-13.404000</td>\n",
       "      <td>19.502001</td>\n",
       "      <td>-10.121000</td>\n",
       "      <td>AOC3_HUMAN</td>\n",
       "      <td>757</td>\n",
       "      <td>False</td>\n",
       "    </tr>\n",
       "    <tr>\n",
       "      <th>758</th>\n",
       "      <td>G</td>\n",
       "      <td>False</td>\n",
       "      <td>False</td>\n",
       "      <td>False</td>\n",
       "      <td>False</td>\n",
       "      <td>False</td>\n",
       "      <td>True</td>\n",
       "      <td>False</td>\n",
       "      <td>False</td>\n",
       "      <td>False</td>\n",
       "      <td>...</td>\n",
       "      <td>0</td>\n",
       "      <td>0.0</td>\n",
       "      <td>0</td>\n",
       "      <td>0.0</td>\n",
       "      <td>-10.986000</td>\n",
       "      <td>20.320000</td>\n",
       "      <td>-13.016000</td>\n",
       "      <td>AOC3_HUMAN</td>\n",
       "      <td>758</td>\n",
       "      <td>False</td>\n",
       "    </tr>\n",
       "    <tr>\n",
       "      <th>759</th>\n",
       "      <td>F</td>\n",
       "      <td>False</td>\n",
       "      <td>False</td>\n",
       "      <td>False</td>\n",
       "      <td>False</td>\n",
       "      <td>True</td>\n",
       "      <td>False</td>\n",
       "      <td>False</td>\n",
       "      <td>False</td>\n",
       "      <td>False</td>\n",
       "      <td>...</td>\n",
       "      <td>0</td>\n",
       "      <td>0.0</td>\n",
       "      <td>0</td>\n",
       "      <td>0.0</td>\n",
       "      <td>-7.456000</td>\n",
       "      <td>19.052999</td>\n",
       "      <td>-13.909000</td>\n",
       "      <td>AOC3_HUMAN</td>\n",
       "      <td>759</td>\n",
       "      <td>False</td>\n",
       "    </tr>\n",
       "  </tbody>\n",
       "</table>\n",
       "<p>497166 rows × 50 columns</p>\n",
       "</div>"
      ],
      "text/plain": [
       "    annotation_sequence  feat_A  feat_C  feat_D  feat_E  feat_F  feat_G  \\\n",
       "0                     M   False   False   False   False   False   False   \n",
       "1                     G   False   False   False   False   False    True   \n",
       "2                     Q   False   False   False   False   False   False   \n",
       "3                     E   False   False   False    True   False   False   \n",
       "4                     P   False   False   False   False   False   False   \n",
       "..                  ...     ...     ...     ...     ...     ...     ...   \n",
       "755                   S   False   False   False   False   False   False   \n",
       "756                   H   False   False   False   False   False   False   \n",
       "757                   G   False   False   False   False   False    True   \n",
       "758                   G   False   False   False   False   False    True   \n",
       "759                   F   False   False   False   False    True   False   \n",
       "\n",
       "     feat_H  feat_I  feat_K  ...  feat_DSSP_10  feat_DSSP_11  feat_DSSP_12  \\\n",
       "0     False   False   False  ...             0           0.0            47   \n",
       "1     False   False   False  ...             0           0.0             0   \n",
       "2     False   False   False  ...             1          -0.0            -1   \n",
       "3     False   False   False  ...           706          -0.1           705   \n",
       "4     False   False   False  ...             0           0.0           705   \n",
       "..      ...     ...     ...  ...           ...           ...           ...   \n",
       "755   False   False   False  ...            -3          -0.1             2   \n",
       "756    True   False   False  ...          -358          -0.1          -330   \n",
       "757   False   False   False  ...          -360          -0.2            -1   \n",
       "758   False   False   False  ...             0           0.0             0   \n",
       "759   False   False   False  ...             0           0.0             0   \n",
       "\n",
       "     feat_DSSP_13    coord_X    coord_Y    coord_Z        entry  entry_index  \\\n",
       "0            -0.0 -26.499001  -4.742000 -35.189999  GEMI5_HUMAN            0   \n",
       "1             0.0 -25.158001  -1.342000 -34.104000  GEMI5_HUMAN            1   \n",
       "2            -0.0 -21.926001  -1.641000 -32.175999  GEMI5_HUMAN            2   \n",
       "3            -0.0 -22.073999   0.654000 -29.171000  GEMI5_HUMAN            3   \n",
       "4            -0.2 -19.783001   2.670000 -26.858999  GEMI5_HUMAN            4   \n",
       "..            ...        ...        ...        ...          ...          ...   \n",
       "755          -0.4 -19.742001  20.796000 -12.319000   AOC3_HUMAN          755   \n",
       "756          -0.1 -16.299000  19.153999 -12.640000   AOC3_HUMAN          756   \n",
       "757          -0.1 -13.404000  19.502001 -10.121000   AOC3_HUMAN          757   \n",
       "758           0.0 -10.986000  20.320000 -13.016000   AOC3_HUMAN          758   \n",
       "759           0.0  -7.456000  19.052999 -13.909000   AOC3_HUMAN          759   \n",
       "\n",
       "     y_Ligand  \n",
       "0       False  \n",
       "1       False  \n",
       "2       False  \n",
       "3       False  \n",
       "4       False  \n",
       "..        ...  \n",
       "755     False  \n",
       "756     False  \n",
       "757     False  \n",
       "758     False  \n",
       "759     False  \n",
       "\n",
       "[497166 rows x 50 columns]"
      ]
     },
     "execution_count": 2,
     "metadata": {},
     "output_type": "execute_result"
    }
   ],
   "source": [
    "# import dataset\n",
    "df_train = pd.read_csv(\"af2_dataset_training_labeled.csv.gz\", index_col=0)\n",
    "df_train"
   ]
  },
  {
   "cell_type": "markdown",
   "id": "196c708b",
   "metadata": {},
   "source": [
    "## Data Exploration"
   ]
  },
  {
   "cell_type": "code",
   "execution_count": 3,
   "id": "078f0d44",
   "metadata": {
    "scrolled": false
   },
   "outputs": [
    {
     "name": "stdout",
     "output_type": "stream",
     "text": [
      "479912\n",
      "17254\n"
     ]
    }
   ],
   "source": [
    "print(sum(df_train.y_Ligand == False))\n",
    "print(sum(df_train.y_Ligand == True))"
   ]
  },
  {
   "cell_type": "code",
   "execution_count": 31,
   "id": "6531a8af",
   "metadata": {},
   "outputs": [
    {
     "data": {
      "text/plain": [
       "(497166, 50)"
      ]
     },
     "execution_count": 31,
     "metadata": {},
     "output_type": "execute_result"
    }
   ],
   "source": [
    "df_train.shape"
   ]
  },
  {
   "cell_type": "markdown",
   "id": "79ad17d4",
   "metadata": {},
   "source": [
    "### Dataset is imbalanced\n",
    "- oversample\n",
    "- undersample\n",
    "- Ensemble different Resampled Datasets\n",
    "- k-fold cross validation"
   ]
  },
  {
   "cell_type": "code",
   "execution_count": 4,
   "id": "f62fc742",
   "metadata": {},
   "outputs": [],
   "source": [
    "features = df_train.drop([\"y_Ligand\"], axis=1)\n",
    "labels = df_train[\"y_Ligand\"]"
   ]
  },
  {
   "cell_type": "code",
   "execution_count": 33,
   "id": "bbf31953",
   "metadata": {},
   "outputs": [],
   "source": [
    "correlations = features.corr()"
   ]
  },
  {
   "cell_type": "code",
   "execution_count": 32,
   "id": "ac6cc74d",
   "metadata": {
    "scrolled": true
   },
   "outputs": [
    {
     "data": {
      "image/png": "[encoded data removed]",
      "text/plain": [
       "<Figure size 432x288 with 2 Axes>"
      ]
     },
     "metadata": {
      "needs_background": "light"
     },
     "output_type": "display_data"
    }
   ],
   "source": [
    "f = plt.figure()\n",
    "plt.matshow(features.corr(), fignum=f.number)\n",
    "cb = plt.colorbar()\n",
    "cb.ax.tick_params()\n",
    "plt.title('Correlation Matrix');"
   ]
  },
  {
   "cell_type": "code",
   "execution_count": 56,
   "id": "59d1752f",
   "metadata": {
    "scrolled": false
   },
   "outputs": [
    {
     "name": "stdout",
     "output_type": "stream",
     "text": [
      "4\n",
      "2\n"
     ]
    }
   ],
   "source": [
    "print(sum(((correlations.values.ravel() > 0.5) & (correlations.values.ravel() != 1))))\n",
    "print(sum(correlations.values.ravel() < -0.6))"
   ]
  },
  {
   "cell_type": "code",
   "execution_count": 65,
   "id": "922956b1",
   "metadata": {},
   "outputs": [
    {
     "data": {
      "text/plain": [
       "(array([ 993, 1263], dtype=int64),)"
      ]
     },
     "execution_count": 65,
     "metadata": {},
     "output_type": "execute_result"
    }
   ],
   "source": [
    "np.where(correlations.values.ravel() < -0.6)"
   ]
  },
  {
   "cell_type": "code",
   "execution_count": 80,
   "id": "6af9f080",
   "metadata": {},
   "outputs": [
    {
     "data": {
      "text/plain": [
       "(array([1141, 1649, 1726, 1829], dtype=int64),)"
      ]
     },
     "execution_count": 80,
     "metadata": {},
     "output_type": "execute_result"
    }
   ],
   "source": [
    "np.where((correlations.values.ravel() > 0.5) & (correlations.values.ravel() != 1))"
   ]
  },
  {
   "cell_type": "code",
   "execution_count": 85,
   "id": "5410d078",
   "metadata": {},
   "outputs": [
    {
     "data": {
      "text/plain": [
       "'feat_DSSP_11'"
      ]
     },
     "execution_count": 85,
     "metadata": {},
     "output_type": "execute_result"
    }
   ],
   "source": [
    "correlations.columns[(int)(1649 % 46)]"
   ]
  },
  {
   "cell_type": "code",
   "execution_count": 87,
   "id": "36d1e9f3",
   "metadata": {},
   "outputs": [
    {
     "name": "stdout",
     "output_type": "stream",
     "text": [
      "-0.6441074214031565\n",
      "0.5859295090759643\n",
      "0.554012707812967\n"
     ]
    }
   ],
   "source": [
    "print(correlations['feat_PSI']['feat_DSSP_H'])\n",
    "print(correlations['feat_DSSP_9']['feat_BBSASA'])\n",
    "print(correlations['feat_DSSP_7']['feat_DSSP_11'])"
   ]
  },
  {
   "cell_type": "code",
   "execution_count": null,
   "id": "c8303e61",
   "metadata": {},
   "outputs": [],
   "source": []
  },
  {
   "cell_type": "code",
   "execution_count": 126,
   "id": "50ab7a03",
   "metadata": {},
   "outputs": [
    {
     "data": {
      "text/plain": [
       "array([    0,     0,     0,     0,     0,     0,     0,     0,     0,\n",
       "           0,     0,     0,     0,     0,     0,     0,     0,     0,\n",
       "           0,     0,     0, 12689,     0,     0,     0,     0,     0,\n",
       "           0,     0,     0,     0,     0,     0,     0,     0,     0,\n",
       "           0,     0,     0,     0,     0,     0,     0,     0,     0,\n",
       "           0,     0,     0,     0,     0])"
      ]
     },
     "execution_count": 126,
     "metadata": {},
     "output_type": "execute_result"
    }
   ],
   "source": [
    "null_count = sum(df_train.isnull().values).ravel()\n",
    "null_count"
   ]
  },
  {
   "cell_type": "code",
   "execution_count": 129,
   "id": "ff7b15a0",
   "metadata": {},
   "outputs": [
    {
     "data": {
      "text/plain": [
       "(array([21], dtype=int64),)"
      ]
     },
     "execution_count": 129,
     "metadata": {},
     "output_type": "execute_result"
    }
   ],
   "source": [
    "np.where(null_count > 0)"
   ]
  },
  {
   "cell_type": "code",
   "execution_count": 130,
   "id": "e906fbc3",
   "metadata": {},
   "outputs": [
    {
     "data": {
      "text/plain": [
       "'annotation_atomrec'"
      ]
     },
     "execution_count": 130,
     "metadata": {},
     "output_type": "execute_result"
    }
   ],
   "source": [
    "df_train.columns[21]"
   ]
  },
  {
   "cell_type": "code",
   "execution_count": 135,
   "id": "1866643b",
   "metadata": {},
   "outputs": [
    {
     "data": {
      "text/plain": [
       "12689"
      ]
     },
     "execution_count": 135,
     "metadata": {},
     "output_type": "execute_result"
    }
   ],
   "source": [
    "sum(df_train['annotation_atomrec'].isnull())"
   ]
  },
  {
   "cell_type": "code",
   "execution_count": null,
   "id": "b81e47ab",
   "metadata": {},
   "outputs": [],
   "source": []
  },
  {
   "cell_type": "markdown",
   "id": "e845a0c1",
   "metadata": {},
   "source": [
    "## Data Processing"
   ]
  },
  {
   "cell_type": "code",
   "execution_count": 94,
   "id": "b3b46c20",
   "metadata": {},
   "outputs": [],
   "source": [
    "from sklearn.model_selection import cross_val_score\n",
    "from sklearn.model_selection import RepeatedStratifiedKFold\n",
    "from imblearn.pipeline import Pipeline\n",
    "from imblearn.over_sampling import RandomOverSampler\n",
    "from imblearn.under_sampling import RandomUnderSampler\n",
    "from imblearn.over_sampling import SMOTENC"
   ]
  },
  {
   "cell_type": "code",
   "execution_count": 91,
   "id": "78d180d5",
   "metadata": {},
   "outputs": [],
   "source": [
    "from collections import Counter"
   ]
  },
  {
   "cell_type": "code",
   "execution_count": 137,
   "id": "0d692b2f",
   "metadata": {},
   "outputs": [],
   "source": [
    "features = features.drop(['annotation_atomrec'], axis=1)"
   ]
  },
  {
   "cell_type": "code",
   "execution_count": 138,
   "id": "d1567c02",
   "metadata": {},
   "outputs": [
    {
     "name": "stdout",
     "output_type": "stream",
     "text": [
      "['annotation_sequence', 'entry']\n"
     ]
    }
   ],
   "source": [
    "categorical_columns = [col for col in features.columns if features[col].dtype == 'O']\n",
    "print(categorical_columns)"
   ]
  },
  {
   "cell_type": "code",
   "execution_count": 145,
   "id": "7620a3b4",
   "metadata": {
    "scrolled": true
   },
   "outputs": [
    {
     "data": {
      "text/plain": [
       "Index(['annotation_sequence', 'feat_A', 'feat_C', 'feat_D', 'feat_E', 'feat_F',\n",
       "       'feat_G', 'feat_H', 'feat_I', 'feat_K', 'feat_L', 'feat_M', 'feat_N',\n",
       "       'feat_P', 'feat_Q', 'feat_R', 'feat_S', 'feat_T', 'feat_V', 'feat_W',\n",
       "       'feat_Y', 'feat_PHI', 'feat_PSI', 'feat_TAU', 'feat_THETA',\n",
       "       'feat_BBSASA', 'feat_SCSASA', 'feat_pLDDT', 'feat_DSSP_H',\n",
       "       'feat_DSSP_B', 'feat_DSSP_E', 'feat_DSSP_G', 'feat_DSSP_I',\n",
       "       'feat_DSSP_T', 'feat_DSSP_S', 'feat_DSSP_6', 'feat_DSSP_7',\n",
       "       'feat_DSSP_8', 'feat_DSSP_9', 'feat_DSSP_10', 'feat_DSSP_11',\n",
       "       'feat_DSSP_12', 'feat_DSSP_13', 'coord_X', 'coord_Y', 'coord_Z',\n",
       "       'entry', 'entry_index'],\n",
       "      dtype='object')"
      ]
     },
     "execution_count": 145,
     "metadata": {},
     "output_type": "execute_result"
    }
   ],
   "source": [
    "features.columns"
   ]
  },
  {
   "cell_type": "code",
   "execution_count": 150,
   "id": "70142bf6",
   "metadata": {},
   "outputs": [
    {
     "data": {
      "text/plain": [
       "(array([ 0, 46], dtype=int64),)"
      ]
     },
     "execution_count": 150,
     "metadata": {},
     "output_type": "execute_result"
    }
   ],
   "source": [
    "np.where((features.columns.values == 'annotation_sequence') | (features.columns.values == 'entry'))"
   ]
  },
  {
   "cell_type": "code",
   "execution_count": 151,
   "id": "574f824c",
   "metadata": {},
   "outputs": [],
   "source": [
    "over = SMOTENC(categorical_features=[0, 46], sampling_strategy=0.1)\n",
    "under = RandomUnderSampler(sampling_strategy=0.5)\n",
    "\n",
    "pipeline_sample = Pipeline(steps=[('o', over), ('u', under)])\n"
   ]
  },
  {
   "cell_type": "code",
   "execution_count": 152,
   "id": "17765c35",
   "metadata": {},
   "outputs": [],
   "source": [
    "X, y = pipeline_sample.fit_resample(features, labels.ravel())"
   ]
  },
  {
   "cell_type": "code",
   "execution_count": 154,
   "id": "d4e27b30",
   "metadata": {},
   "outputs": [
    {
     "data": {
      "text/plain": [
       "Counter({False: 479912, True: 17254})"
      ]
     },
     "execution_count": 154,
     "metadata": {},
     "output_type": "execute_result"
    }
   ],
   "source": [
    "Counter(labels)"
   ]
  },
  {
   "cell_type": "code",
   "execution_count": 153,
   "id": "48bcb416",
   "metadata": {
    "scrolled": true
   },
   "outputs": [
    {
     "data": {
      "text/plain": [
       "Counter({False: 95982, True: 47991})"
      ]
     },
     "execution_count": 153,
     "metadata": {},
     "output_type": "execute_result"
    }
   ],
   "source": [
    "Counter(y)"
   ]
  },
  {
   "cell_type": "code",
   "execution_count": 173,
   "id": "67471e68",
   "metadata": {},
   "outputs": [],
   "source": [
    "annotation_sequence = pd.get_dummies(X['annotation_sequence'], drop_first=True)\n",
    "entry = pd.get_dummies(X['entry'], drop_first=True)\n",
    "\n",
    "modified_X = X.drop(['annotation_sequence', 'entry'], axis = 1)\n",
    "modified_X = pd.concat([modified_X, annotation_sequence], axis = 1)"
   ]
  },
  {
   "cell_type": "code",
   "execution_count": 174,
   "id": "55a3f65e",
   "metadata": {},
   "outputs": [
    {
     "name": "stdout",
     "output_type": "stream",
     "text": [
      "(143973, 19)\n",
      "(143973, 722)\n"
     ]
    }
   ],
   "source": [
    "print(annotation_sequence.shape)\n",
    "print(entry.shape)"
   ]
  },
  {
   "cell_type": "code",
   "execution_count": 175,
   "id": "fdd95a2a",
   "metadata": {},
   "outputs": [
    {
     "data": {
      "text/plain": [
       "(143973, 65)"
      ]
     },
     "execution_count": 175,
     "metadata": {},
     "output_type": "execute_result"
    }
   ],
   "source": [
    "modified_X.shape"
   ]
  },
  {
   "cell_type": "markdown",
   "id": "2213d824",
   "metadata": {},
   "source": [
    "## Try some models"
   ]
  },
  {
   "cell_type": "code",
   "execution_count": 245,
   "id": "da16fdd9",
   "metadata": {},
   "outputs": [],
   "source": [
    "from sklearn import metrics\n",
    "from sklearn.metrics import make_scorer"
   ]
  },
  {
   "cell_type": "code",
   "execution_count": 246,
   "id": "52dd432d",
   "metadata": {},
   "outputs": [],
   "source": [
    "def make_auc_pr(y_true, y_pred):\n",
    "    precision, recall, _ = metrics.precision_recall_curve(y_true, y_pred)\n",
    "    return metrics.auc(recall, precision)\n",
    "auc_pr = make_scorer(make_auc_pr)"
   ]
  },
  {
   "cell_type": "markdown",
   "id": "0128f7a1",
   "metadata": {},
   "source": [
    "### Logistic Regression"
   ]
  },
  {
   "cell_type": "code",
   "execution_count": null,
   "id": "6c67b7a7",
   "metadata": {},
   "outputs": [],
   "source": [
    "from sklearn.linear_model import LogisticRegression\n",
    "lr = LogisticRegression(max_iter=5000, class_weight='balanced')"
   ]
  },
  {
   "cell_type": "code",
   "execution_count": 243,
   "id": "89c81d6a",
   "metadata": {},
   "outputs": [],
   "source": [
    "pipeline = Pipeline(steps=[('m', lr)])\n",
    "cv = RepeatedStratifiedKFold(n_splits=10, n_repeats=3, random_state=20902490)\n",
    "scores = cross_validate(pipeline, modified_X, y, scoring=['roc_auc', 'f1'], cv=cv, n_jobs=-1)"
   ]
  },
  {
   "cell_type": "code",
   "execution_count": 247,
   "id": "d1030eb4",
   "metadata": {},
   "outputs": [
    {
     "name": "stdout",
     "output_type": "stream",
     "text": [
      "{'fit_time': array([151.43941116, 148.52268553, 148.35155249, 146.82406187,\n",
      "       147.52183056, 148.55160832, 149.26986694, 149.91490865,\n",
      "       151.21491647, 151.25202632, 147.64368248, 149.37364841,\n",
      "       154.78728008, 154.5698576 , 153.03152609, 151.21790695,\n",
      "       152.85698342, 151.95263958, 152.13628864, 153.06532931,\n",
      "       146.87998414, 154.13362598, 152.51030564, 152.80949092,\n",
      "        85.59752393,  83.77430391,  84.00187469,  83.26212239,\n",
      "        84.14310956,  83.31252456]), 'score_time': array([0.53394413, 0.49428296, 0.40201092, 0.58583689, 0.48331237,\n",
      "       0.50226331, 0.59552407, 0.5872426 , 0.43520021, 0.44510603,\n",
      "       0.36510992, 0.58426237, 0.59406686, 0.45987248, 0.50931001,\n",
      "       0.5706265 , 0.73076105, 0.48932934, 0.77616525, 0.37911272,\n",
      "       0.6509304 , 0.38412642, 0.51429963, 0.36161947, 0.37909126,\n",
      "       0.36660624, 0.34118199, 0.27883267, 0.20754051, 0.24893093]), 'test_roc_auc': array([0.85920579, 0.86130147, 0.84949777, 0.85921196, 0.85918076,\n",
      "       0.85116733, 0.84894112, 0.85949457, 0.86669605, 0.86034876,\n",
      "       0.84982078, 0.85361895, 0.85560781, 0.86818625, 0.84964031,\n",
      "       0.84996642, 0.85033826, 0.86050734, 0.83243392, 0.85691604,\n",
      "       0.86080418, 0.84943715, 0.84678305, 0.85920677, 0.85490105,\n",
      "       0.8622169 , 0.85548055, 0.85675375, 0.8675931 , 0.84783315]), 'test_f1': array([0.67897558, 0.69090022, 0.68696458, 0.67714688, 0.68572095,\n",
      "       0.69439333, 0.66341123, 0.69229854, 0.71033654, 0.70431502,\n",
      "       0.66777804, 0.69441454, 0.67946034, 0.70684611, 0.68479025,\n",
      "       0.66247031, 0.66666667, 0.70020411, 0.63133098, 0.67993482,\n",
      "       0.68601838, 0.67086578, 0.65427148, 0.69128834, 0.67843544,\n",
      "       0.70074039, 0.69291711, 0.70128283, 0.7070161 , 0.68327319])}\n"
     ]
    }
   ],
   "source": [
    "print(scores)"
   ]
  },
  {
   "cell_type": "code",
   "execution_count": null,
   "id": "9fdd82a2",
   "metadata": {},
   "outputs": [],
   "source": []
  },
  {
   "cell_type": "markdown",
   "id": "a9896c05",
   "metadata": {},
   "source": [
    "### XGBoost"
   ]
  },
  {
   "cell_type": "code",
   "execution_count": 181,
   "id": "a114ec34",
   "metadata": {},
   "outputs": [],
   "source": [
    "import xgboost \n",
    "xgb = xgboost.XGBClassifier()\n"
   ]
  },
  {
   "cell_type": "code",
   "execution_count": 183,
   "id": "7b76d77e",
   "metadata": {},
   "outputs": [],
   "source": [
    "from sklearn.model_selection import cross_validate"
   ]
  },
  {
   "cell_type": "code",
   "execution_count": 185,
   "id": "da8aa419",
   "metadata": {},
   "outputs": [],
   "source": [
    "pipeline = Pipeline(steps=[('m', xgb)])\n",
    "cv = RepeatedStratifiedKFold(n_splits=10, n_repeats=3, random_state=20902490)\n",
    "scores = cross_validate(pipeline, modified_X, y, scoring=['roc_auc', 'f1'], cv=cv, n_jobs=-1)"
   ]
  },
  {
   "cell_type": "code",
   "execution_count": 188,
   "id": "dfc9df68",
   "metadata": {},
   "outputs": [
    {
     "name": "stdout",
     "output_type": "stream",
     "text": [
      "{'fit_time': array([177.071944  , 174.59308648, 181.28059173, 177.6214757 ,\n",
      "       180.11805677, 166.2897613 , 173.3137691 , 164.31609845,\n",
      "       172.06675673, 182.93936014, 167.46611071, 168.3264873 ,\n",
      "       183.77984929, 176.72874975, 176.48544693, 175.75593996,\n",
      "       168.62902737, 175.06731796, 165.77656531, 179.26742673,\n",
      "       176.32944274, 170.23305917, 175.09380722, 168.11787057,\n",
      "       102.67808127, 103.03128862, 100.92657399, 100.38533306,\n",
      "       100.98281574,  97.88914394]), 'score_time': array([0.6276536 , 0.73747015, 0.85351872, 0.61127615, 0.59833026,\n",
      "       0.60173321, 0.75224471, 0.76665521, 0.58333564, 0.93767309,\n",
      "       0.77175856, 0.63494611, 0.59612155, 0.81568789, 0.60330367,\n",
      "       0.82283449, 0.62820697, 0.83082986, 0.6095221 , 0.48853731,\n",
      "       0.59607768, 0.59560275, 0.48519039, 0.60015965, 0.4313283 ,\n",
      "       0.38013768, 0.34451342, 0.29869652, 0.26643109, 0.25338483]), 'test_roc_auc': array([0.95697389, 0.95459392, 0.95837299, 0.95823876, 0.95502512,\n",
      "       0.95544694, 0.95710137, 0.95760568, 0.95762681, 0.95759909,\n",
      "       0.9570132 , 0.95554438, 0.95878016, 0.956696  , 0.95837257,\n",
      "       0.95620351, 0.95675162, 0.95753849, 0.95408786, 0.95749432,\n",
      "       0.95642154, 0.9565212 , 0.95641725, 0.96017336, 0.95675034,\n",
      "       0.95510909, 0.95657338, 0.95555165, 0.95939156, 0.95846975]), 'test_f1': array([0.84985836, 0.84743474, 0.85759422, 0.85307414, 0.85010128,\n",
      "       0.85512763, 0.85337838, 0.85315943, 0.84856014, 0.85656429,\n",
      "       0.85412215, 0.84459459, 0.85954113, 0.85427702, 0.85191461,\n",
      "       0.84851217, 0.85007377, 0.85354897, 0.8470668 , 0.857207  ,\n",
      "       0.84731619, 0.85288809, 0.84944532, 0.85859499, 0.85437549,\n",
      "       0.84536785, 0.85496183, 0.85301422, 0.85743084, 0.8570787 ])}\n"
     ]
    }
   ],
   "source": [
    "print(scores)"
   ]
  },
  {
   "cell_type": "code",
   "execution_count": 251,
   "id": "a15430c0",
   "metadata": {},
   "outputs": [],
   "source": [
    "pipeline = Pipeline(steps=[('m', xgb)])\n",
    "cv = RepeatedStratifiedKFold(n_splits=10, n_repeats=3, random_state=20902490)\n",
    "scores = cross_validate(pipeline, modified_X, y, scoring={'roc_auc': 'roc_auc',\n",
    "                                                         'f1': 'f1',\n",
    "                                                         'auc_pr': auc_pr}, cv=cv, n_jobs=-1)"
   ]
  },
  {
   "cell_type": "code",
   "execution_count": 255,
   "id": "c17f61f7",
   "metadata": {},
   "outputs": [
    {
     "name": "stdout",
     "output_type": "stream",
     "text": [
      "{'fit_time': array([170.17966175, 158.17194605, 159.03488493, 186.56607914,\n",
      "       154.90738511, 167.098423  , 176.30840373, 173.14909291,\n",
      "       158.51549244, 177.50608158, 177.34945679, 162.1239779 ,\n",
      "       164.94279528, 157.45990896, 162.00630283, 166.7763288 ,\n",
      "       182.9896009 , 167.31364155, 173.70886469, 175.48000741,\n",
      "       175.35856318, 179.26983142, 161.71323848, 173.60699511,\n",
      "       114.49064779, 112.07513237, 112.16786432, 108.00348401,\n",
      "       104.17497969,  98.54341912]), 'score_time': array([0.58091497, 0.78441286, 0.62737989, 0.60102272, 0.75563788,\n",
      "       0.56448102, 0.56435776, 0.77004266, 0.59653282, 0.56539178,\n",
      "       0.58048916, 0.5965271 , 0.77477527, 0.56890845, 0.57774925,\n",
      "       0.68144321, 0.59653759, 0.73659801, 0.60250711, 0.62843466,\n",
      "       0.55570817, 0.46063232, 0.59652734, 0.47897124, 0.44202757,\n",
      "       0.38384461, 0.34624362, 0.38562369, 0.3248136 , 0.25479078]), 'test_roc_auc': array([0.95697389, 0.95459392, 0.95837299, 0.95823876, 0.95502512,\n",
      "       0.95544694, 0.95710137, 0.95760568, 0.95762681, 0.95759909,\n",
      "       0.9570132 , 0.95554438, 0.95878016, 0.956696  , 0.95837257,\n",
      "       0.95620351, 0.95675162, 0.95753849, 0.95408786, 0.95749432,\n",
      "       0.95642154, 0.9565212 , 0.95641725, 0.96017336, 0.95675034,\n",
      "       0.95510909, 0.95657338, 0.95555165, 0.95939156, 0.95846975]), 'test_f1': array([0.84985836, 0.84743474, 0.85759422, 0.85307414, 0.85010128,\n",
      "       0.85512763, 0.85337838, 0.85315943, 0.84856014, 0.85656429,\n",
      "       0.85412215, 0.84459459, 0.85954113, 0.85427702, 0.85191461,\n",
      "       0.84851217, 0.85007377, 0.85354897, 0.8470668 , 0.857207  ,\n",
      "       0.84731619, 0.85288809, 0.84944532, 0.85859499, 0.85437549,\n",
      "       0.84536785, 0.85496183, 0.85301422, 0.85743084, 0.8570787 ]), 'test_auc_pr': array([0.89285787, 0.88875024, 0.89831026, 0.89484561, 0.89108786,\n",
      "       0.89394333, 0.89407095, 0.89344165, 0.89076484, 0.89650018,\n",
      "       0.89435381, 0.88658128, 0.89766686, 0.89506078, 0.89369244,\n",
      "       0.8901773 , 0.89351513, 0.89346073, 0.88975037, 0.89645073,\n",
      "       0.88928264, 0.89416356, 0.89227438, 0.89936064, 0.89495276,\n",
      "       0.88959246, 0.8945393 , 0.89446801, 0.89599365, 0.89637265])}\n"
     ]
    }
   ],
   "source": [
    "print(scores)"
   ]
  },
  {
   "cell_type": "code",
   "execution_count": null,
   "id": "417c23e0",
   "metadata": {},
   "outputs": [],
   "source": []
  },
  {
   "cell_type": "markdown",
   "id": "1507be50",
   "metadata": {},
   "source": [
    "### RandomForest"
   ]
  },
  {
   "cell_type": "code",
   "execution_count": 189,
   "id": "1b8a3198",
   "metadata": {},
   "outputs": [],
   "source": [
    "from sklearn.ensemble import RandomForestClassifier\n",
    "# n_estimators = number of decision trees\n",
    "rf = RandomForestClassifier()"
   ]
  },
  {
   "cell_type": "code",
   "execution_count": 190,
   "id": "64e9bfd2",
   "metadata": {},
   "outputs": [],
   "source": [
    "pipeline = Pipeline(steps=[('m', rf)])\n",
    "cv = RepeatedStratifiedKFold(n_splits=10, n_repeats=3, random_state=20902490)\n",
    "scores = cross_validate(pipeline, modified_X, y, scoring=['roc_auc', 'f1'], cv=cv, n_jobs=-1)"
   ]
  },
  {
   "cell_type": "code",
   "execution_count": 191,
   "id": "9f5b66ae",
   "metadata": {
    "scrolled": true
   },
   "outputs": [
    {
     "name": "stdout",
     "output_type": "stream",
     "text": [
      "{'fit_time': array([139.32483244, 145.73354483, 132.26152802, 128.90371704,\n",
      "       128.7939508 , 128.77832341, 132.10489535, 135.08932972,\n",
      "       138.82246614, 127.47626519, 143.93759537, 138.10048842,\n",
      "       122.51007533, 132.4314127 , 140.58974814, 136.4311316 ,\n",
      "       142.29103589, 131.29991937, 149.15325999, 129.45667768,\n",
      "       122.94607639, 135.20798063, 138.41315198, 134.22465229,\n",
      "        86.32518744,  80.76581192,  81.11117983,  79.22892046,\n",
      "        78.58404326,  77.60858774]), 'score_time': array([2.42153692, 2.40145278, 2.41749787, 2.36851835, 2.76074338,\n",
      "       2.66659665, 2.98443437, 2.90549684, 2.59418321, 2.33733177,\n",
      "       2.40810752, 2.48487759, 2.41082621, 2.49439144, 2.95690155,\n",
      "       2.38509703, 2.32845712, 2.44657254, 1.58469033, 2.4549377 ,\n",
      "       2.41530776, 2.40698385, 1.86725903, 2.14852381, 1.41556501,\n",
      "       1.36477757, 1.3188498 , 1.20757651, 1.13453507, 0.90980554]), 'test_roc_auc': array([0.9664545 , 0.96621014, 0.96779518, 0.96747262, 0.96433145,\n",
      "       0.96564003, 0.96601276, 0.96624964, 0.96806873, 0.96695689,\n",
      "       0.96748696, 0.96600946, 0.96589425, 0.9668149 , 0.96707462,\n",
      "       0.96705953, 0.96557755, 0.96532866, 0.96718633, 0.96661815,\n",
      "       0.96654238, 0.96482146, 0.96631896, 0.96847344, 0.96688544,\n",
      "       0.96484675, 0.96466518, 0.96527678, 0.96788892, 0.96750086]), 'test_f1': array([0.86722461, 0.8688027 , 0.86795854, 0.87872674, 0.86623772,\n",
      "       0.86949686, 0.87037872, 0.87400426, 0.87017385, 0.87205501,\n",
      "       0.8739439 , 0.86668165, 0.87073143, 0.87229951, 0.87140764,\n",
      "       0.87464805, 0.86541506, 0.87327731, 0.86878235, 0.87170237,\n",
      "       0.86662153, 0.86991687, 0.86798007, 0.87327422, 0.86915361,\n",
      "       0.86529319, 0.87199641, 0.87170237, 0.87679533, 0.8736122 ])}\n"
     ]
    }
   ],
   "source": [
    "print(scores)"
   ]
  },
  {
   "cell_type": "code",
   "execution_count": 249,
   "id": "3118e68f",
   "metadata": {},
   "outputs": [],
   "source": [
    "pipeline = Pipeline(steps=[('m', rf)])\n",
    "cv = RepeatedStratifiedKFold(n_splits=10, n_repeats=3, random_state=20902490)\n",
    "scores = cross_validate(pipeline, modified_X, y, scoring={'roc_auc': 'roc_auc',\n",
    "                                                         'f1': 'f1',\n",
    "                                                         'auc_pr': auc_pr}, cv=cv, n_jobs=-1)"
   ]
  },
  {
   "cell_type": "code",
   "execution_count": 250,
   "id": "4e97f264",
   "metadata": {},
   "outputs": [
    {
     "name": "stdout",
     "output_type": "stream",
     "text": [
      "{'fit_time': array([124.20286083, 152.99761891, 152.39309263, 145.55378795,\n",
      "       137.15268421, 129.23335981, 150.70422101, 135.79511261,\n",
      "       139.63588595, 140.43138433, 143.60544038, 128.0762012 ,\n",
      "       136.01605153, 150.28573585, 142.25198078, 119.82839131,\n",
      "       132.03406549, 137.706774  , 133.88104892, 135.48464036,\n",
      "       127.5899322 , 137.51693344, 127.20411777, 123.1000247 ,\n",
      "        82.9584341 ,  80.83569407,  76.32688737,  74.96695256,\n",
      "        73.5593226 ,  72.97401929]), 'score_time': array([2.35119486, 3.21556258, 2.35074472, 2.52774715, 2.50478125,\n",
      "       2.45842171, 2.3775599 , 2.33234525, 3.2027638 , 2.36847091,\n",
      "       3.20998955, 2.62406468, 2.55720115, 2.38516021, 3.17963767,\n",
      "       2.34258747, 3.0588429 , 2.61918235, 3.31087303, 2.30586433,\n",
      "       2.33282375, 1.61514521, 2.4047308 , 2.36801744, 1.4279294 ,\n",
      "       1.30275822, 1.17667842, 1.08233356, 1.20220971, 0.86321807]), 'test_roc_auc': array([0.96671702, 0.96559719, 0.96684984, 0.96752599, 0.96500028,\n",
      "       0.96574046, 0.96596122, 0.96516365, 0.96848799, 0.96699126,\n",
      "       0.96769671, 0.96536786, 0.96584983, 0.96654882, 0.96781968,\n",
      "       0.96698067, 0.96601835, 0.96626576, 0.96673856, 0.96716872,\n",
      "       0.9666375 , 0.96469157, 0.96703843, 0.96831831, 0.96664756,\n",
      "       0.96520574, 0.96556239, 0.96532818, 0.96836979, 0.96744901]), 'test_f1': array([0.86852229, 0.86833539, 0.86806105, 0.87825696, 0.86529783,\n",
      "       0.87072842, 0.87200903, 0.87233086, 0.86775833, 0.87216518,\n",
      "       0.8738039 , 0.86532176, 0.8686732 , 0.86928031, 0.87325529,\n",
      "       0.87083708, 0.86457156, 0.87333408, 0.8667267 , 0.86878952,\n",
      "       0.86901678, 0.87039533, 0.87133183, 0.87239554, 0.86738836,\n",
      "       0.86516598, 0.86963363, 0.86894683, 0.87595334, 0.8734106 ]), 'test_auc_pr': array([0.90836527, 0.90589112, 0.90780499, 0.9144995 , 0.90475132,\n",
      "       0.90834397, 0.91060822, 0.90964486, 0.90714715, 0.91064211,\n",
      "       0.91138142, 0.90447569, 0.90746593, 0.90857896, 0.9108836 ,\n",
      "       0.9086935 , 0.90472629, 0.90952087, 0.90531972, 0.90799392,\n",
      "       0.90743101, 0.90780312, 0.91009621, 0.9103134 , 0.90640334,\n",
      "       0.90693982, 0.90734759, 0.90802881, 0.91215683, 0.91091871])}\n"
     ]
    }
   ],
   "source": [
    "print(scores)"
   ]
  },
  {
   "cell_type": "code",
   "execution_count": null,
   "id": "5654afad",
   "metadata": {},
   "outputs": [],
   "source": []
  },
  {
   "cell_type": "markdown",
   "id": "0806619c",
   "metadata": {},
   "source": [
    "### Neural Network"
   ]
  },
  {
   "cell_type": "code",
   "execution_count": 192,
   "id": "ba32c39f",
   "metadata": {},
   "outputs": [],
   "source": [
    "from sklearn.model_selection import train_test_split"
   ]
  },
  {
   "cell_type": "code",
   "execution_count": 210,
   "id": "02cfde53",
   "metadata": {},
   "outputs": [],
   "source": [
    "tensor_X = 1 * modified_X"
   ]
  },
  {
   "cell_type": "code",
   "execution_count": 237,
   "id": "0e003819",
   "metadata": {},
   "outputs": [
    {
     "data": {
      "text/html": [
       "<div>\n",
       "<style scoped>\n",
       "    .dataframe tbody tr th:only-of-type {\n",
       "        vertical-align: middle;\n",
       "    }\n",
       "\n",
       "    .dataframe tbody tr th {\n",
       "        vertical-align: top;\n",
       "    }\n",
       "\n",
       "    .dataframe thead th {\n",
       "        text-align: right;\n",
       "    }\n",
       "</style>\n",
       "<table border=\"1\" class=\"dataframe\">\n",
       "  <thead>\n",
       "    <tr style=\"text-align: right;\">\n",
       "      <th></th>\n",
       "      <th>feat_A</th>\n",
       "      <th>feat_C</th>\n",
       "      <th>feat_D</th>\n",
       "      <th>feat_E</th>\n",
       "      <th>feat_F</th>\n",
       "      <th>feat_G</th>\n",
       "      <th>feat_H</th>\n",
       "      <th>feat_I</th>\n",
       "      <th>feat_K</th>\n",
       "      <th>feat_L</th>\n",
       "      <th>...</th>\n",
       "      <th>M</th>\n",
       "      <th>N</th>\n",
       "      <th>P</th>\n",
       "      <th>Q</th>\n",
       "      <th>R</th>\n",
       "      <th>S</th>\n",
       "      <th>T</th>\n",
       "      <th>V</th>\n",
       "      <th>W</th>\n",
       "      <th>Y</th>\n",
       "    </tr>\n",
       "  </thead>\n",
       "  <tbody>\n",
       "    <tr>\n",
       "      <th>0</th>\n",
       "      <td>0</td>\n",
       "      <td>0</td>\n",
       "      <td>0</td>\n",
       "      <td>0</td>\n",
       "      <td>0</td>\n",
       "      <td>0</td>\n",
       "      <td>0</td>\n",
       "      <td>0</td>\n",
       "      <td>0</td>\n",
       "      <td>0</td>\n",
       "      <td>...</td>\n",
       "      <td>1</td>\n",
       "      <td>0</td>\n",
       "      <td>0</td>\n",
       "      <td>0</td>\n",
       "      <td>0</td>\n",
       "      <td>0</td>\n",
       "      <td>0</td>\n",
       "      <td>0</td>\n",
       "      <td>0</td>\n",
       "      <td>0</td>\n",
       "    </tr>\n",
       "    <tr>\n",
       "      <th>1</th>\n",
       "      <td>0</td>\n",
       "      <td>0</td>\n",
       "      <td>0</td>\n",
       "      <td>1</td>\n",
       "      <td>0</td>\n",
       "      <td>0</td>\n",
       "      <td>0</td>\n",
       "      <td>0</td>\n",
       "      <td>0</td>\n",
       "      <td>0</td>\n",
       "      <td>...</td>\n",
       "      <td>0</td>\n",
       "      <td>0</td>\n",
       "      <td>0</td>\n",
       "      <td>0</td>\n",
       "      <td>0</td>\n",
       "      <td>0</td>\n",
       "      <td>0</td>\n",
       "      <td>0</td>\n",
       "      <td>0</td>\n",
       "      <td>0</td>\n",
       "    </tr>\n",
       "    <tr>\n",
       "      <th>2</th>\n",
       "      <td>0</td>\n",
       "      <td>0</td>\n",
       "      <td>0</td>\n",
       "      <td>1</td>\n",
       "      <td>0</td>\n",
       "      <td>0</td>\n",
       "      <td>0</td>\n",
       "      <td>0</td>\n",
       "      <td>0</td>\n",
       "      <td>0</td>\n",
       "      <td>...</td>\n",
       "      <td>0</td>\n",
       "      <td>0</td>\n",
       "      <td>0</td>\n",
       "      <td>0</td>\n",
       "      <td>0</td>\n",
       "      <td>0</td>\n",
       "      <td>0</td>\n",
       "      <td>0</td>\n",
       "      <td>0</td>\n",
       "      <td>0</td>\n",
       "    </tr>\n",
       "    <tr>\n",
       "      <th>3</th>\n",
       "      <td>0</td>\n",
       "      <td>0</td>\n",
       "      <td>0</td>\n",
       "      <td>1</td>\n",
       "      <td>0</td>\n",
       "      <td>0</td>\n",
       "      <td>0</td>\n",
       "      <td>0</td>\n",
       "      <td>0</td>\n",
       "      <td>0</td>\n",
       "      <td>...</td>\n",
       "      <td>0</td>\n",
       "      <td>0</td>\n",
       "      <td>0</td>\n",
       "      <td>0</td>\n",
       "      <td>0</td>\n",
       "      <td>0</td>\n",
       "      <td>0</td>\n",
       "      <td>0</td>\n",
       "      <td>0</td>\n",
       "      <td>0</td>\n",
       "    </tr>\n",
       "    <tr>\n",
       "      <th>4</th>\n",
       "      <td>0</td>\n",
       "      <td>0</td>\n",
       "      <td>0</td>\n",
       "      <td>0</td>\n",
       "      <td>0</td>\n",
       "      <td>0</td>\n",
       "      <td>0</td>\n",
       "      <td>0</td>\n",
       "      <td>0</td>\n",
       "      <td>0</td>\n",
       "      <td>...</td>\n",
       "      <td>0</td>\n",
       "      <td>0</td>\n",
       "      <td>0</td>\n",
       "      <td>0</td>\n",
       "      <td>0</td>\n",
       "      <td>1</td>\n",
       "      <td>0</td>\n",
       "      <td>0</td>\n",
       "      <td>0</td>\n",
       "      <td>0</td>\n",
       "    </tr>\n",
       "  </tbody>\n",
       "</table>\n",
       "<p>5 rows × 65 columns</p>\n",
       "</div>"
      ],
      "text/plain": [
       "   feat_A  feat_C  feat_D  feat_E  feat_F  feat_G  feat_H  feat_I  feat_K  \\\n",
       "0       0       0       0       0       0       0       0       0       0   \n",
       "1       0       0       0       1       0       0       0       0       0   \n",
       "2       0       0       0       1       0       0       0       0       0   \n",
       "3       0       0       0       1       0       0       0       0       0   \n",
       "4       0       0       0       0       0       0       0       0       0   \n",
       "\n",
       "   feat_L  ...  M  N  P  Q  R  S  T  V  W  Y  \n",
       "0       0  ...  1  0  0  0  0  0  0  0  0  0  \n",
       "1       0  ...  0  0  0  0  0  0  0  0  0  0  \n",
       "2       0  ...  0  0  0  0  0  0  0  0  0  0  \n",
       "3       0  ...  0  0  0  0  0  0  0  0  0  0  \n",
       "4       0  ...  0  0  0  0  0  1  0  0  0  0  \n",
       "\n",
       "[5 rows x 65 columns]"
      ]
     },
     "execution_count": 237,
     "metadata": {},
     "output_type": "execute_result"
    }
   ],
   "source": [
    "tensor_X.head()"
   ]
  },
  {
   "cell_type": "code",
   "execution_count": 196,
   "id": "d5ae83ee",
   "metadata": {},
   "outputs": [],
   "source": [
    "import tensorflow as tf"
   ]
  },
  {
   "cell_type": "code",
   "execution_count": 198,
   "id": "dba564b6",
   "metadata": {},
   "outputs": [],
   "source": [
    "import tensorflow_addons as tfa"
   ]
  },
  {
   "cell_type": "code",
   "execution_count": 239,
   "id": "dc1c0f19",
   "metadata": {},
   "outputs": [],
   "source": [
    "def create_model():\n",
    "    # create model\n",
    "    model = tf.keras.Sequential()\n",
    "    model.add(tf.keras.layers.Dense(200, activation='relu', input_dim=65))\n",
    "    model.add(tf.keras.layers.Dense(100, activation='relu'))\n",
    "    model.add(tf.keras.layers.Dropout(0.2))\n",
    "    model.add(tf.keras.layers.Dense(50, activation='relu'))\n",
    "    model.add(tf.keras.layers.Dropout(0.2))\n",
    "    model.add(tf.keras.layers.Dense(1, activation='sigmoid'))\n",
    "    # Compile model\n",
    "    model.compile(optimizer=tf.keras.optimizers.Adam(learning_rate=0.0001),\n",
    "                  loss=tf.keras.losses.BinaryCrossentropy(),\n",
    "                  metrics=[tf.keras.metrics.BinaryAccuracy(),\n",
    "                           tf.keras.metrics.AUC(),\n",
    "                           tfa.metrics.F1Score(num_classes=1, average='macro',threshold=0.5)])\n",
    "    return model"
   ]
  },
  {
   "cell_type": "code",
   "execution_count": 201,
   "id": "886edf45",
   "metadata": {},
   "outputs": [],
   "source": [
    "class_weight = {False: 1.,\n",
    "                True: 2.}"
   ]
  },
  {
   "cell_type": "code",
   "execution_count": 232,
   "id": "75e7c03f",
   "metadata": {},
   "outputs": [],
   "source": [
    "from sklearn.preprocessing import StandardScaler\n",
    "from scikeras.wrappers import KerasClassifier"
   ]
  },
  {
   "cell_type": "code",
   "execution_count": 241,
   "id": "29e43636",
   "metadata": {},
   "outputs": [],
   "source": [
    "pipeline = Pipeline(steps=[('standardize', StandardScaler()), \n",
    "                           ('mlp', KerasClassifier(model=create_model, class_weight=class_weight, epochs=200, batch_size=512, verbose=0))])\n",
    "cv = RepeatedStratifiedKFold(n_splits=10, n_repeats=3, random_state=20902490)\n",
    "scores = cross_val_score(pipeline, tensor_X, y, cv=cv, n_jobs=-1)"
   ]
  },
  {
   "cell_type": "code",
   "execution_count": 242,
   "id": "93545557",
   "metadata": {
    "scrolled": true
   },
   "outputs": [
    {
     "name": "stdout",
     "output_type": "stream",
     "text": [
      "[0.76135574 0.75704959 0.7750382  0.76981316 0.73841773 0.76460374\n",
      " 0.7697437  0.76022783 0.77356394 0.76897965 0.76121684 0.75968885\n",
      " 0.76705098 0.7619643  0.74967007 0.76578454 0.78141279 0.76752101\n",
      " 0.76765993 0.76029728 0.77045423 0.77781636 0.74774274 0.76995207\n",
      " 0.75328193 0.74390498 0.75064249 0.76710426 0.77224422 0.78870598]\n"
     ]
    }
   ],
   "source": [
    "print(scores)"
   ]
  },
  {
   "cell_type": "code",
   "execution_count": null,
   "id": "d02377c4",
   "metadata": {},
   "outputs": [],
   "source": []
  },
  {
   "cell_type": "markdown",
   "id": "2248bd08",
   "metadata": {},
   "source": [
    "### LightGBM"
   ]
  },
  {
   "cell_type": "code",
   "execution_count": 256,
   "id": "aacbdf7e",
   "metadata": {},
   "outputs": [],
   "source": [
    "import lightgbm as lgb"
   ]
  },
  {
   "cell_type": "code",
   "execution_count": 267,
   "id": "7923cfc8",
   "metadata": {},
   "outputs": [],
   "source": [
    "pipeline = Pipeline(steps=[('m', lgb.LGBMClassifier(objective='binary', learning_rate=0.03))])\n",
    "cv = RepeatedStratifiedKFold(n_splits=10, n_repeats=3, random_state=20902490)\n",
    "scores = cross_validate(pipeline, modified_X, y, scoring={'roc_auc': 'roc_auc',\n",
    "                                                         'f1': 'f1',\n",
    "                                                         'auc_pr': auc_pr}, cv=cv, n_jobs=-1)"
   ]
  },
  {
   "cell_type": "code",
   "execution_count": 268,
   "id": "0e8c2745",
   "metadata": {},
   "outputs": [
    {
     "name": "stdout",
     "output_type": "stream",
     "text": [
      "{'fit_time': array([10.42995429, 10.25728559, 11.24571776, 10.26689625,  8.68745995,\n",
      "        8.74037528,  9.77043915, 12.89805794, 11.62240148, 10.36705518,\n",
      "       11.76385427,  9.0701561 ,  8.2391026 ,  8.99649811,  9.23670578,\n",
      "        8.22072053, 10.00617099,  9.42885327, 10.58436036,  9.70804644,\n",
      "       11.03943825, 10.04390788,  9.94937062,  9.26014256,  7.48871207,\n",
      "        7.53425097,  7.28819585,  6.98631525,  6.32651901,  6.31945992]), 'score_time': array([0.70593882, 0.65862393, 0.92014575, 0.67468548, 0.73051906,\n",
      "       0.71445894, 0.705971  , 0.63200045, 0.88790202, 0.70593882,\n",
      "       0.96601844, 0.66947746, 0.71418691, 0.81489873, 0.74663639,\n",
      "       0.68031502, 1.05276608, 0.73918843, 0.80728745, 0.6711688 ,\n",
      "       0.77261114, 0.86933327, 0.73529124, 0.72672296, 0.59011579,\n",
      "       0.46826935, 0.47418261, 0.45264244, 0.33527994, 0.31500602]), 'test_roc_auc': array([0.93030239, 0.92770672, 0.92955369, 0.92853109, 0.92488957,\n",
      "       0.92669023, 0.92609797, 0.92730484, 0.93237931, 0.92852766,\n",
      "       0.92796321, 0.92534839, 0.93114816, 0.93061249, 0.92661414,\n",
      "       0.9292186 , 0.93036987, 0.9287172 , 0.92503875, 0.92821338,\n",
      "       0.92798572, 0.92686167, 0.92708512, 0.93117199, 0.92736457,\n",
      "       0.92770339, 0.92598715, 0.92905918, 0.93157956, 0.9278302 ]), 'test_f1': array([0.77969662, 0.77146847, 0.76905014, 0.77246208, 0.76682608,\n",
      "       0.76853463, 0.77151818, 0.77166628, 0.77219352, 0.77549122,\n",
      "       0.77049759, 0.76740672, 0.77643505, 0.78251724, 0.77163518,\n",
      "       0.77515961, 0.77616448, 0.77228412, 0.77000116, 0.77169746,\n",
      "       0.76937398, 0.76513374, 0.77499125, 0.77679404, 0.77568573,\n",
      "       0.77054354, 0.77050134, 0.77680957, 0.78008107, 0.77312878]), 'test_auc_pr': array([0.84171133, 0.83367828, 0.83464803, 0.83545131, 0.83045772,\n",
      "       0.83022245, 0.8331665 , 0.83166391, 0.83733975, 0.8368971 ,\n",
      "       0.83646941, 0.82983232, 0.83759984, 0.84466482, 0.83458245,\n",
      "       0.83608998, 0.83718035, 0.83356994, 0.83267588, 0.8333954 ,\n",
      "       0.83186736, 0.8308866 , 0.83760148, 0.83866541, 0.83695304,\n",
      "       0.83436789, 0.83273355, 0.83781215, 0.83960325, 0.83474352])}\n"
     ]
    }
   ],
   "source": [
    "print(scores)"
   ]
  },
  {
   "cell_type": "code",
   "execution_count": 265,
   "id": "e5926380",
   "metadata": {},
   "outputs": [
    {
     "name": "stdout",
     "output_type": "stream",
     "text": [
      "{'fit_time': array([14.18041754, 16.16266942, 12.89290285, 11.95224524, 12.87726665,\n",
      "       13.59948587, 12.87730193, 16.28848219, 13.48864579, 15.37756658,\n",
      "       13.58345556, 16.08415914, 12.0511837 , 12.08141279, 12.9766283 ,\n",
      "       17.06989312, 13.14117146, 17.24790072, 13.03148103, 12.37980151,\n",
      "       12.90174031, 11.95962691, 15.65749288, 15.61014223, 10.09392571,\n",
      "       10.22953629,  9.22223926,  9.00163889,  9.02131081,  8.94122076]), 'score_time': array([0.84739685, 1.03620934, 0.9260962 , 0.87773776, 0.91048002,\n",
      "       1.09915662, 0.9260962 , 1.22415257, 0.94201779, 1.01967502,\n",
      "       1.1458261 , 1.22453022, 0.81572175, 0.89479113, 0.9338665 ,\n",
      "       0.90046096, 0.9420321 , 0.8943336 , 0.89476109, 0.93415833,\n",
      "       0.88290548, 0.96145129, 0.70579863, 0.64334035, 0.64333439,\n",
      "       0.5326705 , 0.54871297, 0.53263164, 0.39723897, 0.42075849]), 'test_roc_auc': array([0.92971291, 0.92774086, 0.92930604, 0.92962967, 0.92591745,\n",
      "       0.92663974, 0.92721174, 0.9278327 , 0.93133252, 0.92922936,\n",
      "       0.92782905, 0.92518438, 0.93064229, 0.93049577, 0.92732201,\n",
      "       0.92877991, 0.92921982, 0.92925402, 0.92482107, 0.92776244,\n",
      "       0.92828473, 0.92615304, 0.92708928, 0.93109293, 0.92728116,\n",
      "       0.92721624, 0.92559577, 0.92912223, 0.93148843, 0.92807919]), 'test_f1': array([0.77780363, 0.77227262, 0.76872505, 0.77601493, 0.76706874,\n",
      "       0.76769552, 0.77603622, 0.77233229, 0.77045908, 0.77824365,\n",
      "       0.76924888, 0.76663171, 0.77715748, 0.7795147 , 0.76737655,\n",
      "       0.77752081, 0.77209302, 0.77542029, 0.76576366, 0.77051848,\n",
      "       0.76824584, 0.76428488, 0.77218001, 0.77596646, 0.77686142,\n",
      "       0.76657669, 0.7707873 , 0.7724154 , 0.77843616, 0.77522617]), 'test_auc_pr': array([0.83908027, 0.83422379, 0.83432562, 0.83845034, 0.83197884,\n",
      "       0.82953443, 0.83692107, 0.83306363, 0.83579321, 0.83984324,\n",
      "       0.83566914, 0.82990802, 0.83852435, 0.84148003, 0.83197249,\n",
      "       0.83692435, 0.83399744, 0.83594721, 0.82988062, 0.83256216,\n",
      "       0.83100405, 0.83018924, 0.83586247, 0.83779762, 0.83778242,\n",
      "       0.83226209, 0.83290614, 0.83431341, 0.83921748, 0.83588965])}\n"
     ]
    }
   ],
   "source": [
    "### after standardize\n",
    "print(scores)"
   ]
  },
  {
   "cell_type": "code",
   "execution_count": null,
   "id": "c619cd34",
   "metadata": {},
   "outputs": [],
   "source": []
  },
  {
   "cell_type": "markdown",
   "id": "903b9811",
   "metadata": {},
   "source": [
    "### VotingClassifier"
   ]
  },
  {
   "cell_type": "code",
   "execution_count": 266,
   "id": "9f27ccd6",
   "metadata": {},
   "outputs": [],
   "source": [
    "from sklearn.ensemble import VotingClassifier"
   ]
  },
  {
   "cell_type": "code",
   "execution_count": 272,
   "id": "c896c0a1",
   "metadata": {},
   "outputs": [],
   "source": [
    "p1 = Pipeline(steps=[('m', rf)])\n",
    "p2 = Pipeline(steps=[('m', xgb)])\n",
    "p3 = Pipeline(steps=[('m', lr)])"
   ]
  },
  {
   "cell_type": "code",
   "execution_count": 279,
   "id": "f0073993",
   "metadata": {},
   "outputs": [],
   "source": [
    "evc = VotingClassifier(estimators=[('lr',p3),('rf',p1),('xgb',p2)], voting='soft')"
   ]
  },
  {
   "cell_type": "code",
   "execution_count": 282,
   "id": "d87c0972",
   "metadata": {},
   "outputs": [],
   "source": [
    "pipeline = Pipeline(steps=[('m', evc)])\n",
    "cv = RepeatedStratifiedKFold(n_splits=10, n_repeats=3, random_state=20902490)\n",
    "scores = cross_validate(pipeline, modified_X, y, scoring={'roc_auc': 'roc_auc',\n",
    "                                                         'f1': 'f1',\n",
    "                                                         'auc_pr': auc_pr}, cv=cv, n_jobs=-1, error_score=\"raise\")"
   ]
  },
  {
   "cell_type": "code",
   "execution_count": 283,
   "id": "07cbb360",
   "metadata": {},
   "outputs": [
    {
     "name": "stdout",
     "output_type": "stream",
     "text": [
      "{'fit_time': array([478.68087387, 451.75876641, 436.84960151, 464.81938434,\n",
      "       433.08149791, 448.98172212, 456.79750633, 453.14655185,\n",
      "       431.84534168, 436.10888839, 448.21726537, 458.00946689,\n",
      "       493.56793189, 453.8081851 , 484.5783143 , 455.63740182,\n",
      "       455.09887052, 454.68513656, 450.39687538, 453.27141213,\n",
      "       477.0117259 , 460.97782755, 460.5413444 , 442.8023572 ,\n",
      "       252.57471585, 252.17810845, 246.96362925, 248.37135196,\n",
      "       246.30180669, 245.40648746]), 'score_time': array([5.54240441, 4.00166225, 3.9741509 , 5.50061512, 3.40498543,\n",
      "       5.36156154, 4.59407187, 4.05148101, 3.32969427, 4.88751149,\n",
      "       5.58500242, 4.34517598, 4.73993754, 3.5030427 , 5.40686178,\n",
      "       3.86519718, 3.75796437, 3.82176614, 5.12117791, 3.83874607,\n",
      "       3.80250406, 5.0407548 , 4.62667346, 4.96939921, 2.18925166,\n",
      "       2.17094302, 1.73084784, 1.63545704, 1.63887095, 1.62500477]), 'test_roc_auc': array([0.9584125 , 0.95729371, 0.95799018, 0.9594075 , 0.95517297,\n",
      "       0.95925939, 0.9577272 , 0.95840489, 0.96079245, 0.95818575,\n",
      "       0.95860757, 0.95710331, 0.95908177, 0.95880988, 0.95765108,\n",
      "       0.95721197, 0.9581135 , 0.95957593, 0.95524183, 0.95865769,\n",
      "       0.95865101, 0.95670678, 0.95761884, 0.96206955, 0.95661059,\n",
      "       0.95645857, 0.95758721, 0.95843985, 0.95958596, 0.95774322]), 'test_f1': array([0.85539949, 0.84908713, 0.85203552, 0.85343143, 0.84865238,\n",
      "       0.85403403, 0.86027147, 0.85602934, 0.85186476, 0.85714286,\n",
      "       0.85691318, 0.84658041, 0.8600137 , 0.85563218, 0.84957799,\n",
      "       0.85099033, 0.85138713, 0.85681347, 0.84974689, 0.86041452,\n",
      "       0.8503299 , 0.85046621, 0.85059325, 0.86323309, 0.8525759 ,\n",
      "       0.85054001, 0.85684695, 0.85212741, 0.85893919, 0.85500403]), 'test_auc_pr': array([0.90257889, 0.89838   , 0.90033747, 0.9003956 , 0.89692879,\n",
      "       0.90323915, 0.90377265, 0.90169505, 0.90265809, 0.90431175,\n",
      "       0.90304733, 0.89614195, 0.90394476, 0.90224991, 0.89900158,\n",
      "       0.89886433, 0.89909158, 0.90425987, 0.89749131, 0.90512762,\n",
      "       0.90004175, 0.89829667, 0.89871151, 0.90959172, 0.89977314,\n",
      "       0.9013505 , 0.90367393, 0.90309002, 0.90331386, 0.90235604])}\n"
     ]
    }
   ],
   "source": [
    "print(scores)"
   ]
  },
  {
   "cell_type": "code",
   "execution_count": null,
   "id": "17dc159f",
   "metadata": {},
   "outputs": [],
   "source": []
  },
  {
   "cell_type": "code",
   "execution_count": null,
   "id": "78541868",
   "metadata": {},
   "outputs": [],
   "source": [
    "df_test = pd.read_csv(\"af2_dataset_testset_unlabeled.csv.gz\", index_col=0)\n",
    "df_test\n",
    "\n",
    "y_test_submission = xgb.predict(df_test[without_categorical_columns])\n",
    "\n",
    "s = pd.Series(y_test_submission).astype(bool)\n",
    "s.name = \"Predicted\"\n",
    "s.to_csv(\"submission.csv\")"
   ]
  }
 ],
 "metadata": {
  "kernelspec": {
   "display_name": "Python 3 (ipykernel)",
   "language": "python",
   "name": "python3"
  },
  "language_info": {
   "codemirror_mode": {
    "name": "ipython",
    "version": 3
   },
   "file_extension": ".py",
   "mimetype": "text/x-python",
   "name": "python",
   "nbconvert_exporter": "python",
   "pygments_lexer": "ipython3",
   "version": "3.9.12"
  }
 },
 "nbformat": 4,
 "nbformat_minor": 5
}
