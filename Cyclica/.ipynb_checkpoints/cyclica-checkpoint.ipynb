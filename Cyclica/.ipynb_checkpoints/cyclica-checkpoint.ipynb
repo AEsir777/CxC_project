{
 "cells": [
  {
   "cell_type": "code",
   "execution_count": 10,
   "id": "130180cd",
   "metadata": {},
   "outputs": [],
   "source": [
    "import pandas as pd\n",
    "import numpy as np\n",
    "import matplotlib.pyplot as plt"
   ]
  },
  {
   "cell_type": "code",
   "execution_count": 11,
   "id": "27400bf8",
   "metadata": {},
   "outputs": [],
   "source": [
    "import seaborn as sns"
   ]
  },
  {
   "cell_type": "code",
   "execution_count": 2,
   "id": "09034ea4",
   "metadata": {},
   "outputs": [
    {
     "data": {
      "text/html": [
       "<div>\n",
       "<style scoped>\n",
       "    .dataframe tbody tr th:only-of-type {\n",
       "        vertical-align: middle;\n",
       "    }\n",
       "\n",
       "    .dataframe tbody tr th {\n",
       "        vertical-align: top;\n",
       "    }\n",
       "\n",
       "    .dataframe thead th {\n",
       "        text-align: right;\n",
       "    }\n",
       "</style>\n",
       "<table border=\"1\" class=\"dataframe\">\n",
       "  <thead>\n",
       "    <tr style=\"text-align: right;\">\n",
       "      <th></th>\n",
       "      <th>annotation_sequence</th>\n",
       "      <th>feat_A</th>\n",
       "      <th>feat_C</th>\n",
       "      <th>feat_D</th>\n",
       "      <th>feat_E</th>\n",
       "      <th>feat_F</th>\n",
       "      <th>feat_G</th>\n",
       "      <th>feat_H</th>\n",
       "      <th>feat_I</th>\n",
       "      <th>feat_K</th>\n",
       "      <th>...</th>\n",
       "      <th>feat_DSSP_10</th>\n",
       "      <th>feat_DSSP_11</th>\n",
       "      <th>feat_DSSP_12</th>\n",
       "      <th>feat_DSSP_13</th>\n",
       "      <th>coord_X</th>\n",
       "      <th>coord_Y</th>\n",
       "      <th>coord_Z</th>\n",
       "      <th>entry</th>\n",
       "      <th>entry_index</th>\n",
       "      <th>y_Ligand</th>\n",
       "    </tr>\n",
       "  </thead>\n",
       "  <tbody>\n",
       "    <tr>\n",
       "      <th>0</th>\n",
       "      <td>M</td>\n",
       "      <td>False</td>\n",
       "      <td>False</td>\n",
       "      <td>False</td>\n",
       "      <td>False</td>\n",
       "      <td>False</td>\n",
       "      <td>False</td>\n",
       "      <td>False</td>\n",
       "      <td>False</td>\n",
       "      <td>False</td>\n",
       "      <td>...</td>\n",
       "      <td>0</td>\n",
       "      <td>0.0</td>\n",
       "      <td>47</td>\n",
       "      <td>-0.0</td>\n",
       "      <td>-26.499001</td>\n",
       "      <td>-4.742000</td>\n",
       "      <td>-35.189999</td>\n",
       "      <td>GEMI5_HUMAN</td>\n",
       "      <td>0</td>\n",
       "      <td>False</td>\n",
       "    </tr>\n",
       "    <tr>\n",
       "      <th>1</th>\n",
       "      <td>G</td>\n",
       "      <td>False</td>\n",
       "      <td>False</td>\n",
       "      <td>False</td>\n",
       "      <td>False</td>\n",
       "      <td>False</td>\n",
       "      <td>True</td>\n",
       "      <td>False</td>\n",
       "      <td>False</td>\n",
       "      <td>False</td>\n",
       "      <td>...</td>\n",
       "      <td>0</td>\n",
       "      <td>0.0</td>\n",
       "      <td>0</td>\n",
       "      <td>0.0</td>\n",
       "      <td>-25.158001</td>\n",
       "      <td>-1.342000</td>\n",
       "      <td>-34.104000</td>\n",
       "      <td>GEMI5_HUMAN</td>\n",
       "      <td>1</td>\n",
       "      <td>False</td>\n",
       "    </tr>\n",
       "    <tr>\n",
       "      <th>2</th>\n",
       "      <td>Q</td>\n",
       "      <td>False</td>\n",
       "      <td>False</td>\n",
       "      <td>False</td>\n",
       "      <td>False</td>\n",
       "      <td>False</td>\n",
       "      <td>False</td>\n",
       "      <td>False</td>\n",
       "      <td>False</td>\n",
       "      <td>False</td>\n",
       "      <td>...</td>\n",
       "      <td>1</td>\n",
       "      <td>-0.0</td>\n",
       "      <td>-1</td>\n",
       "      <td>-0.0</td>\n",
       "      <td>-21.926001</td>\n",
       "      <td>-1.641000</td>\n",
       "      <td>-32.175999</td>\n",
       "      <td>GEMI5_HUMAN</td>\n",
       "      <td>2</td>\n",
       "      <td>False</td>\n",
       "    </tr>\n",
       "    <tr>\n",
       "      <th>3</th>\n",
       "      <td>E</td>\n",
       "      <td>False</td>\n",
       "      <td>False</td>\n",
       "      <td>False</td>\n",
       "      <td>True</td>\n",
       "      <td>False</td>\n",
       "      <td>False</td>\n",
       "      <td>False</td>\n",
       "      <td>False</td>\n",
       "      <td>False</td>\n",
       "      <td>...</td>\n",
       "      <td>706</td>\n",
       "      <td>-0.1</td>\n",
       "      <td>705</td>\n",
       "      <td>-0.0</td>\n",
       "      <td>-22.073999</td>\n",
       "      <td>0.654000</td>\n",
       "      <td>-29.171000</td>\n",
       "      <td>GEMI5_HUMAN</td>\n",
       "      <td>3</td>\n",
       "      <td>False</td>\n",
       "    </tr>\n",
       "    <tr>\n",
       "      <th>4</th>\n",
       "      <td>P</td>\n",
       "      <td>False</td>\n",
       "      <td>False</td>\n",
       "      <td>False</td>\n",
       "      <td>False</td>\n",
       "      <td>False</td>\n",
       "      <td>False</td>\n",
       "      <td>False</td>\n",
       "      <td>False</td>\n",
       "      <td>False</td>\n",
       "      <td>...</td>\n",
       "      <td>0</td>\n",
       "      <td>0.0</td>\n",
       "      <td>705</td>\n",
       "      <td>-0.2</td>\n",
       "      <td>-19.783001</td>\n",
       "      <td>2.670000</td>\n",
       "      <td>-26.858999</td>\n",
       "      <td>GEMI5_HUMAN</td>\n",
       "      <td>4</td>\n",
       "      <td>False</td>\n",
       "    </tr>\n",
       "    <tr>\n",
       "      <th>...</th>\n",
       "      <td>...</td>\n",
       "      <td>...</td>\n",
       "      <td>...</td>\n",
       "      <td>...</td>\n",
       "      <td>...</td>\n",
       "      <td>...</td>\n",
       "      <td>...</td>\n",
       "      <td>...</td>\n",
       "      <td>...</td>\n",
       "      <td>...</td>\n",
       "      <td>...</td>\n",
       "      <td>...</td>\n",
       "      <td>...</td>\n",
       "      <td>...</td>\n",
       "      <td>...</td>\n",
       "      <td>...</td>\n",
       "      <td>...</td>\n",
       "      <td>...</td>\n",
       "      <td>...</td>\n",
       "      <td>...</td>\n",
       "      <td>...</td>\n",
       "    </tr>\n",
       "    <tr>\n",
       "      <th>755</th>\n",
       "      <td>S</td>\n",
       "      <td>False</td>\n",
       "      <td>False</td>\n",
       "      <td>False</td>\n",
       "      <td>False</td>\n",
       "      <td>False</td>\n",
       "      <td>False</td>\n",
       "      <td>False</td>\n",
       "      <td>False</td>\n",
       "      <td>False</td>\n",
       "      <td>...</td>\n",
       "      <td>-3</td>\n",
       "      <td>-0.1</td>\n",
       "      <td>2</td>\n",
       "      <td>-0.4</td>\n",
       "      <td>-19.742001</td>\n",
       "      <td>20.796000</td>\n",
       "      <td>-12.319000</td>\n",
       "      <td>AOC3_HUMAN</td>\n",
       "      <td>755</td>\n",
       "      <td>False</td>\n",
       "    </tr>\n",
       "    <tr>\n",
       "      <th>756</th>\n",
       "      <td>H</td>\n",
       "      <td>False</td>\n",
       "      <td>False</td>\n",
       "      <td>False</td>\n",
       "      <td>False</td>\n",
       "      <td>False</td>\n",
       "      <td>False</td>\n",
       "      <td>True</td>\n",
       "      <td>False</td>\n",
       "      <td>False</td>\n",
       "      <td>...</td>\n",
       "      <td>-358</td>\n",
       "      <td>-0.1</td>\n",
       "      <td>-330</td>\n",
       "      <td>-0.1</td>\n",
       "      <td>-16.299000</td>\n",
       "      <td>19.153999</td>\n",
       "      <td>-12.640000</td>\n",
       "      <td>AOC3_HUMAN</td>\n",
       "      <td>756</td>\n",
       "      <td>False</td>\n",
       "    </tr>\n",
       "    <tr>\n",
       "      <th>757</th>\n",
       "      <td>G</td>\n",
       "      <td>False</td>\n",
       "      <td>False</td>\n",
       "      <td>False</td>\n",
       "      <td>False</td>\n",
       "      <td>False</td>\n",
       "      <td>True</td>\n",
       "      <td>False</td>\n",
       "      <td>False</td>\n",
       "      <td>False</td>\n",
       "      <td>...</td>\n",
       "      <td>-360</td>\n",
       "      <td>-0.2</td>\n",
       "      <td>-1</td>\n",
       "      <td>-0.1</td>\n",
       "      <td>-13.404000</td>\n",
       "      <td>19.502001</td>\n",
       "      <td>-10.121000</td>\n",
       "      <td>AOC3_HUMAN</td>\n",
       "      <td>757</td>\n",
       "      <td>False</td>\n",
       "    </tr>\n",
       "    <tr>\n",
       "      <th>758</th>\n",
       "      <td>G</td>\n",
       "      <td>False</td>\n",
       "      <td>False</td>\n",
       "      <td>False</td>\n",
       "      <td>False</td>\n",
       "      <td>False</td>\n",
       "      <td>True</td>\n",
       "      <td>False</td>\n",
       "      <td>False</td>\n",
       "      <td>False</td>\n",
       "      <td>...</td>\n",
       "      <td>0</td>\n",
       "      <td>0.0</td>\n",
       "      <td>0</td>\n",
       "      <td>0.0</td>\n",
       "      <td>-10.986000</td>\n",
       "      <td>20.320000</td>\n",
       "      <td>-13.016000</td>\n",
       "      <td>AOC3_HUMAN</td>\n",
       "      <td>758</td>\n",
       "      <td>False</td>\n",
       "    </tr>\n",
       "    <tr>\n",
       "      <th>759</th>\n",
       "      <td>F</td>\n",
       "      <td>False</td>\n",
       "      <td>False</td>\n",
       "      <td>False</td>\n",
       "      <td>False</td>\n",
       "      <td>True</td>\n",
       "      <td>False</td>\n",
       "      <td>False</td>\n",
       "      <td>False</td>\n",
       "      <td>False</td>\n",
       "      <td>...</td>\n",
       "      <td>0</td>\n",
       "      <td>0.0</td>\n",
       "      <td>0</td>\n",
       "      <td>0.0</td>\n",
       "      <td>-7.456000</td>\n",
       "      <td>19.052999</td>\n",
       "      <td>-13.909000</td>\n",
       "      <td>AOC3_HUMAN</td>\n",
       "      <td>759</td>\n",
       "      <td>False</td>\n",
       "    </tr>\n",
       "  </tbody>\n",
       "</table>\n",
       "<p>497166 rows × 50 columns</p>\n",
       "</div>"
      ],
      "text/plain": [
       "    annotation_sequence  feat_A  feat_C  feat_D  feat_E  feat_F  feat_G  \\\n",
       "0                     M   False   False   False   False   False   False   \n",
       "1                     G   False   False   False   False   False    True   \n",
       "2                     Q   False   False   False   False   False   False   \n",
       "3                     E   False   False   False    True   False   False   \n",
       "4                     P   False   False   False   False   False   False   \n",
       "..                  ...     ...     ...     ...     ...     ...     ...   \n",
       "755                   S   False   False   False   False   False   False   \n",
       "756                   H   False   False   False   False   False   False   \n",
       "757                   G   False   False   False   False   False    True   \n",
       "758                   G   False   False   False   False   False    True   \n",
       "759                   F   False   False   False   False    True   False   \n",
       "\n",
       "     feat_H  feat_I  feat_K  ...  feat_DSSP_10  feat_DSSP_11  feat_DSSP_12  \\\n",
       "0     False   False   False  ...             0           0.0            47   \n",
       "1     False   False   False  ...             0           0.0             0   \n",
       "2     False   False   False  ...             1          -0.0            -1   \n",
       "3     False   False   False  ...           706          -0.1           705   \n",
       "4     False   False   False  ...             0           0.0           705   \n",
       "..      ...     ...     ...  ...           ...           ...           ...   \n",
       "755   False   False   False  ...            -3          -0.1             2   \n",
       "756    True   False   False  ...          -358          -0.1          -330   \n",
       "757   False   False   False  ...          -360          -0.2            -1   \n",
       "758   False   False   False  ...             0           0.0             0   \n",
       "759   False   False   False  ...             0           0.0             0   \n",
       "\n",
       "     feat_DSSP_13    coord_X    coord_Y    coord_Z        entry  entry_index  \\\n",
       "0            -0.0 -26.499001  -4.742000 -35.189999  GEMI5_HUMAN            0   \n",
       "1             0.0 -25.158001  -1.342000 -34.104000  GEMI5_HUMAN            1   \n",
       "2            -0.0 -21.926001  -1.641000 -32.175999  GEMI5_HUMAN            2   \n",
       "3            -0.0 -22.073999   0.654000 -29.171000  GEMI5_HUMAN            3   \n",
       "4            -0.2 -19.783001   2.670000 -26.858999  GEMI5_HUMAN            4   \n",
       "..            ...        ...        ...        ...          ...          ...   \n",
       "755          -0.4 -19.742001  20.796000 -12.319000   AOC3_HUMAN          755   \n",
       "756          -0.1 -16.299000  19.153999 -12.640000   AOC3_HUMAN          756   \n",
       "757          -0.1 -13.404000  19.502001 -10.121000   AOC3_HUMAN          757   \n",
       "758           0.0 -10.986000  20.320000 -13.016000   AOC3_HUMAN          758   \n",
       "759           0.0  -7.456000  19.052999 -13.909000   AOC3_HUMAN          759   \n",
       "\n",
       "     y_Ligand  \n",
       "0       False  \n",
       "1       False  \n",
       "2       False  \n",
       "3       False  \n",
       "4       False  \n",
       "..        ...  \n",
       "755     False  \n",
       "756     False  \n",
       "757     False  \n",
       "758     False  \n",
       "759     False  \n",
       "\n",
       "[497166 rows x 50 columns]"
      ]
     },
     "execution_count": 2,
     "metadata": {},
     "output_type": "execute_result"
    }
   ],
   "source": [
    "# import dataset\n",
    "df_train = pd.read_csv(\"af2_dataset_training_labeled.csv.gz\", index_col=0)\n",
    "df_train"
   ]
  },
  {
   "cell_type": "markdown",
   "id": "196c708b",
   "metadata": {},
   "source": [
    "## Data Exploration"
   ]
  },
  {
   "cell_type": "code",
   "execution_count": 3,
   "id": "078f0d44",
   "metadata": {
    "scrolled": false
   },
   "outputs": [
    {
     "name": "stdout",
     "output_type": "stream",
     "text": [
      "479912\n",
      "17254\n"
     ]
    }
   ],
   "source": [
    "print(sum(df_train.y_Ligand == False))\n",
    "print(sum(df_train.y_Ligand == True))"
   ]
  },
  {
   "cell_type": "code",
   "execution_count": 31,
   "id": "e1cc8eef",
   "metadata": {},
   "outputs": [
    {
     "data": {
      "text/plain": [
       "(497166, 50)"
      ]
     },
     "execution_count": 31,
     "metadata": {},
     "output_type": "execute_result"
    }
   ],
   "source": [
    "df_train.shape"
   ]
  },
  {
   "cell_type": "markdown",
   "id": "79ad17d4",
   "metadata": {},
   "source": [
    "### Dataset is imbalanced\n",
    "- oversample\n",
    "- undersample\n",
    "- Ensemble different Resampled Datasets\n",
    "- k-fold cross validation"
   ]
  },
  {
   "cell_type": "code",
   "execution_count": 4,
   "id": "f62fc742",
   "metadata": {},
   "outputs": [],
   "source": [
    "features = df_train.drop([\"y_Ligand\"], axis=1)\n",
    "labels = df_train[\"y_Ligand\"]"
   ]
  },
  {
   "cell_type": "code",
   "execution_count": 33,
   "id": "386132cc",
   "metadata": {},
   "outputs": [],
   "source": [
    "correlations = features.corr()"
   ]
  },
  {
   "cell_type": "code",
   "execution_count": 32,
   "id": "ebabe325",
   "metadata": {
    "scrolled": true
   },
   "outputs": [
    {
     "data": {
      "image/png": "[encoded data removed]",
      "text/plain": [
       "<Figure size 432x288 with 2 Axes>"
      ]
     },
     "metadata": {
      "needs_background": "light"
     },
     "output_type": "display_data"
    }
   ],
   "source": [
    "f = plt.figure()\n",
    "plt.matshow(features.corr(), fignum=f.number)\n",
    "cb = plt.colorbar()\n",
    "cb.ax.tick_params()\n",
    "plt.title('Correlation Matrix');"
   ]
  },
  {
   "cell_type": "code",
   "execution_count": 56,
   "id": "b6cceacf",
   "metadata": {
    "scrolled": false
   },
   "outputs": [
    {
     "name": "stdout",
     "output_type": "stream",
     "text": [
      "4\n",
      "2\n"
     ]
    }
   ],
   "source": [
    "print(sum(((correlations.values.ravel() > 0.5) & (correlations.values.ravel() != 1))))\n",
    "print(sum(correlations.values.ravel() < -0.6))"
   ]
  },
  {
   "cell_type": "code",
   "execution_count": 65,
   "id": "0a873fa5",
   "metadata": {},
   "outputs": [
    {
     "data": {
      "text/plain": [
       "(array([ 993, 1263], dtype=int64),)"
      ]
     },
     "execution_count": 65,
     "metadata": {},
     "output_type": "execute_result"
    }
   ],
   "source": [
    "np.where(correlations.values.ravel() < -0.6)"
   ]
  },
  {
   "cell_type": "code",
   "execution_count": 80,
   "id": "576462ca",
   "metadata": {},
   "outputs": [
    {
     "data": {
      "text/plain": [
       "(array([1141, 1649, 1726, 1829], dtype=int64),)"
      ]
     },
     "execution_count": 80,
     "metadata": {},
     "output_type": "execute_result"
    }
   ],
   "source": [
    "np.where((correlations.values.ravel() > 0.5) & (correlations.values.ravel() != 1))"
   ]
  },
  {
   "cell_type": "code",
   "execution_count": 85,
   "id": "cbee99a9",
   "metadata": {},
   "outputs": [
    {
     "data": {
      "text/plain": [
       "'feat_DSSP_11'"
      ]
     },
     "execution_count": 85,
     "metadata": {},
     "output_type": "execute_result"
    }
   ],
   "source": [
    "correlations.columns[(int)(1649 % 46)]"
   ]
  },
  {
   "cell_type": "code",
   "execution_count": 87,
   "id": "81f40c1a",
   "metadata": {},
   "outputs": [
    {
     "name": "stdout",
     "output_type": "stream",
     "text": [
      "-0.6441074214031565\n",
      "0.5859295090759643\n",
      "0.554012707812967\n"
     ]
    }
   ],
   "source": [
    "print(correlations['feat_PSI']['feat_DSSP_H'])\n",
    "print(correlations['feat_DSSP_9']['feat_BBSASA'])\n",
    "print(correlations['feat_DSSP_7']['feat_DSSP_11'])"
   ]
  },
  {
   "cell_type": "code",
   "execution_count": null,
   "id": "44994f67",
   "metadata": {},
   "outputs": [],
   "source": []
  },
  {
   "cell_type": "code",
   "execution_count": 126,
   "id": "844c49c2",
   "metadata": {},
   "outputs": [
    {
     "data": {
      "text/plain": [
       "array([    0,     0,     0,     0,     0,     0,     0,     0,     0,\n",
       "           0,     0,     0,     0,     0,     0,     0,     0,     0,\n",
       "           0,     0,     0, 12689,     0,     0,     0,     0,     0,\n",
       "           0,     0,     0,     0,     0,     0,     0,     0,     0,\n",
       "           0,     0,     0,     0,     0,     0,     0,     0,     0,\n",
       "           0,     0,     0,     0,     0])"
      ]
     },
     "execution_count": 126,
     "metadata": {},
     "output_type": "execute_result"
    }
   ],
   "source": [
    "null_count = sum(df_train.isnull().values).ravel()\n",
    "null_count"
   ]
  },
  {
   "cell_type": "code",
   "execution_count": 129,
   "id": "13c8b984",
   "metadata": {},
   "outputs": [
    {
     "data": {
      "text/plain": [
       "(array([21], dtype=int64),)"
      ]
     },
     "execution_count": 129,
     "metadata": {},
     "output_type": "execute_result"
    }
   ],
   "source": [
    "np.where(null_count > 0)"
   ]
  },
  {
   "cell_type": "code",
   "execution_count": 130,
   "id": "92585e1b",
   "metadata": {},
   "outputs": [
    {
     "data": {
      "text/plain": [
       "'annotation_atomrec'"
      ]
     },
     "execution_count": 130,
     "metadata": {},
     "output_type": "execute_result"
    }
   ],
   "source": [
    "df_train.columns[21]"
   ]
  },
  {
   "cell_type": "code",
   "execution_count": 135,
   "id": "7a624ed8",
   "metadata": {},
   "outputs": [
    {
     "data": {
      "text/plain": [
       "12689"
      ]
     },
     "execution_count": 135,
     "metadata": {},
     "output_type": "execute_result"
    }
   ],
   "source": [
    "sum(df_train['annotation_atomrec'].isnull())"
   ]
  },
  {
   "cell_type": "code",
   "execution_count": null,
   "id": "4ddb0a1f",
   "metadata": {},
   "outputs": [],
   "source": []
  },
  {
   "cell_type": "markdown",
   "id": "9bfa300f",
   "metadata": {},
   "source": [
    "## Data Processing"
   ]
  },
  {
   "cell_type": "code",
   "execution_count": 94,
   "id": "21559088",
   "metadata": {},
   "outputs": [],
   "source": [
    "from sklearn.model_selection import cross_val_score\n",
    "from sklearn.model_selection import RepeatedStratifiedKFold\n",
    "from imblearn.pipeline import Pipeline\n",
    "from imblearn.over_sampling import RandomOverSampler\n",
    "from imblearn.under_sampling import RandomUnderSampler\n",
    "from imblearn.over_sampling import SMOTENC"
   ]
  },
  {
   "cell_type": "code",
   "execution_count": 91,
   "id": "73385543",
   "metadata": {},
   "outputs": [],
   "source": [
    "from collections import Counter"
   ]
  },
  {
   "cell_type": "code",
   "execution_count": 137,
   "id": "a0a21a97",
   "metadata": {},
   "outputs": [],
   "source": [
    "features = features.drop(['annotation_atomrec'], axis=1)"
   ]
  },
  {
   "cell_type": "code",
   "execution_count": 138,
   "id": "b0ee87d7",
   "metadata": {},
   "outputs": [
    {
     "name": "stdout",
     "output_type": "stream",
     "text": [
      "['annotation_sequence', 'entry']\n"
     ]
    }
   ],
   "source": [
    "categorical_columns = [col for col in features.columns if features[col].dtype == 'O']\n",
    "print(categorical_columns)"
   ]
  },
  {
   "cell_type": "code",
   "execution_count": 145,
   "id": "2ee42408",
   "metadata": {},
   "outputs": [
    {
     "data": {
      "text/plain": [
       "Index(['annotation_sequence', 'feat_A', 'feat_C', 'feat_D', 'feat_E', 'feat_F',\n",
       "       'feat_G', 'feat_H', 'feat_I', 'feat_K', 'feat_L', 'feat_M', 'feat_N',\n",
       "       'feat_P', 'feat_Q', 'feat_R', 'feat_S', 'feat_T', 'feat_V', 'feat_W',\n",
       "       'feat_Y', 'feat_PHI', 'feat_PSI', 'feat_TAU', 'feat_THETA',\n",
       "       'feat_BBSASA', 'feat_SCSASA', 'feat_pLDDT', 'feat_DSSP_H',\n",
       "       'feat_DSSP_B', 'feat_DSSP_E', 'feat_DSSP_G', 'feat_DSSP_I',\n",
       "       'feat_DSSP_T', 'feat_DSSP_S', 'feat_DSSP_6', 'feat_DSSP_7',\n",
       "       'feat_DSSP_8', 'feat_DSSP_9', 'feat_DSSP_10', 'feat_DSSP_11',\n",
       "       'feat_DSSP_12', 'feat_DSSP_13', 'coord_X', 'coord_Y', 'coord_Z',\n",
       "       'entry', 'entry_index'],\n",
       "      dtype='object')"
      ]
     },
     "execution_count": 145,
     "metadata": {},
     "output_type": "execute_result"
    }
   ],
   "source": [
    "features.columns"
   ]
  },
  {
   "cell_type": "code",
   "execution_count": 150,
   "id": "96b7877b",
   "metadata": {},
   "outputs": [
    {
     "data": {
      "text/plain": [
       "(array([ 0, 46], dtype=int64),)"
      ]
     },
     "execution_count": 150,
     "metadata": {},
     "output_type": "execute_result"
    }
   ],
   "source": [
    "np.where((features.columns.values == 'annotation_sequence') | (features.columns.values == 'entry'))"
   ]
  },
  {
   "cell_type": "code",
   "execution_count": 151,
   "id": "09db1279",
   "metadata": {},
   "outputs": [],
   "source": [
    "over = SMOTENC(categorical_features=[0, 46], sampling_strategy=0.1)\n",
    "under = RandomUnderSampler(sampling_strategy=0.5)\n",
    "\n",
    "pipeline_sample = Pipeline(steps=[('o', over), ('u', under)])\n"
   ]
  },
  {
   "cell_type": "code",
   "execution_count": 152,
   "id": "39bd72b6",
   "metadata": {},
   "outputs": [],
   "source": [
    "X, y = pipeline_sample.fit_resample(features, labels.ravel())"
   ]
  },
  {
   "cell_type": "code",
   "execution_count": 154,
   "id": "8e35a475",
   "metadata": {},
   "outputs": [
    {
     "data": {
      "text/plain": [
       "Counter({False: 479912, True: 17254})"
      ]
     },
     "execution_count": 154,
     "metadata": {},
     "output_type": "execute_result"
    }
   ],
   "source": [
    "Counter(labels)"
   ]
  },
  {
   "cell_type": "code",
   "execution_count": 153,
   "id": "e8ffb0c9",
   "metadata": {
    "scrolled": true
   },
   "outputs": [
    {
     "data": {
      "text/plain": [
       "Counter({False: 95982, True: 47991})"
      ]
     },
     "execution_count": 153,
     "metadata": {},
     "output_type": "execute_result"
    }
   ],
   "source": [
    "Counter(y)"
   ]
  },
  {
   "cell_type": "code",
   "execution_count": 173,
   "id": "acfefa7b",
   "metadata": {},
   "outputs": [],
   "source": [
    "annotation_sequence = pd.get_dummies(X['annotation_sequence'], drop_first=True)\n",
    "entry = pd.get_dummies(X['entry'], drop_first=True)\n",
    "\n",
    "modified_X = X.drop(['annotation_sequence', 'entry'], axis = 1)\n",
    "modified_X = pd.concat([modified_X, annotation_sequence], axis = 1)"
   ]
  },
  {
   "cell_type": "code",
   "execution_count": 174,
   "id": "60d3714e",
   "metadata": {},
   "outputs": [
    {
     "name": "stdout",
     "output_type": "stream",
     "text": [
      "(143973, 19)\n",
      "(143973, 722)\n"
     ]
    }
   ],
   "source": [
    "print(annotation_sequence.shape)\n",
    "print(entry.shape)"
   ]
  },
  {
   "cell_type": "code",
   "execution_count": 175,
   "id": "31041074",
   "metadata": {},
   "outputs": [
    {
     "data": {
      "text/plain": [
       "(143973, 65)"
      ]
     },
     "execution_count": 175,
     "metadata": {},
     "output_type": "execute_result"
    }
   ],
   "source": [
    "modified_X.shape"
   ]
  },
  {
   "cell_type": "markdown",
   "id": "5e2fd2ee",
   "metadata": {},
   "source": [
    "## Try some models"
   ]
  },
  {
   "cell_type": "code",
   "execution_count": 162,
   "id": "d8c6b143",
   "metadata": {},
   "outputs": [],
   "source": [
    "from sklearn.linear_model import LogisticRegression\n",
    "lr = LogisticRegression(max_iter=5000, class_weight='balanced')"
   ]
  },
  {
   "cell_type": "code",
   "execution_count": 176,
   "id": "31f4ad1a",
   "metadata": {},
   "outputs": [],
   "source": [
    "pipeline = Pipeline(steps=[('m', lr)])\n",
    "cv = RepeatedStratifiedKFold(n_splits=10, n_repeats=3, random_state=20902490)\n",
    "scores = cross_val_score(pipeline, modified_X, y, scoring=['roc_auc', 'f1'], cv=cv, n_jobs=-1)"
   ]
  },
  {
   "cell_type": "code",
   "execution_count": 177,
   "id": "9695db88",
   "metadata": {},
   "outputs": [
    {
     "name": "stdout",
     "output_type": "stream",
     "text": [
      "[0.85920579 0.86130147 0.84949777 0.85921196 0.85918076 0.85116733\n",
      " 0.84894112 0.85949457 0.86669605 0.86034876 0.84982078 0.85361895\n",
      " 0.85560781 0.86818625 0.84964031 0.84996642 0.85033826 0.86050734\n",
      " 0.83243392 0.85691604 0.86080418 0.84943715 0.84678305 0.85920677\n",
      " 0.85490105 0.8622169  0.85548055 0.85675375 0.8675931  0.84783315]\n"
     ]
    }
   ],
   "source": [
    "print(scores)"
   ]
  },
  {
   "cell_type": "code",
   "execution_count": null,
   "id": "425b40e1",
   "metadata": {},
   "outputs": [],
   "source": []
  },
  {
   "cell_type": "code",
   "execution_count": 181,
   "id": "d299034d",
   "metadata": {},
   "outputs": [],
   "source": [
    "import xgboost \n",
    "xgb = xgboost.XGBClassifier()\n"
   ]
  },
  {
   "cell_type": "code",
   "execution_count": 183,
   "id": "2c400c63",
   "metadata": {},
   "outputs": [],
   "source": [
    "from sklearn.model_selection import cross_validate"
   ]
  },
  {
   "cell_type": "code",
   "execution_count": 185,
   "id": "a6b575b6",
   "metadata": {},
   "outputs": [],
   "source": [
    "pipeline = Pipeline(steps=[('m', xgb)])\n",
    "cv = RepeatedStratifiedKFold(n_splits=10, n_repeats=3, random_state=20902490)\n",
    "scores = cross_validate(pipeline, modified_X, y, scoring=['roc_auc', 'f1'], cv=cv, n_jobs=-1)"
   ]
  },
  {
   "cell_type": "code",
   "execution_count": 188,
   "id": "29ee62c2",
   "metadata": {},
   "outputs": [
    {
     "name": "stdout",
     "output_type": "stream",
     "text": [
      "{'fit_time': array([177.071944  , 174.59308648, 181.28059173, 177.6214757 ,\n",
      "       180.11805677, 166.2897613 , 173.3137691 , 164.31609845,\n",
      "       172.06675673, 182.93936014, 167.46611071, 168.3264873 ,\n",
      "       183.77984929, 176.72874975, 176.48544693, 175.75593996,\n",
      "       168.62902737, 175.06731796, 165.77656531, 179.26742673,\n",
      "       176.32944274, 170.23305917, 175.09380722, 168.11787057,\n",
      "       102.67808127, 103.03128862, 100.92657399, 100.38533306,\n",
      "       100.98281574,  97.88914394]), 'score_time': array([0.6276536 , 0.73747015, 0.85351872, 0.61127615, 0.59833026,\n",
      "       0.60173321, 0.75224471, 0.76665521, 0.58333564, 0.93767309,\n",
      "       0.77175856, 0.63494611, 0.59612155, 0.81568789, 0.60330367,\n",
      "       0.82283449, 0.62820697, 0.83082986, 0.6095221 , 0.48853731,\n",
      "       0.59607768, 0.59560275, 0.48519039, 0.60015965, 0.4313283 ,\n",
      "       0.38013768, 0.34451342, 0.29869652, 0.26643109, 0.25338483]), 'test_roc_auc': array([0.95697389, 0.95459392, 0.95837299, 0.95823876, 0.95502512,\n",
      "       0.95544694, 0.95710137, 0.95760568, 0.95762681, 0.95759909,\n",
      "       0.9570132 , 0.95554438, 0.95878016, 0.956696  , 0.95837257,\n",
      "       0.95620351, 0.95675162, 0.95753849, 0.95408786, 0.95749432,\n",
      "       0.95642154, 0.9565212 , 0.95641725, 0.96017336, 0.95675034,\n",
      "       0.95510909, 0.95657338, 0.95555165, 0.95939156, 0.95846975]), 'test_f1': array([0.84985836, 0.84743474, 0.85759422, 0.85307414, 0.85010128,\n",
      "       0.85512763, 0.85337838, 0.85315943, 0.84856014, 0.85656429,\n",
      "       0.85412215, 0.84459459, 0.85954113, 0.85427702, 0.85191461,\n",
      "       0.84851217, 0.85007377, 0.85354897, 0.8470668 , 0.857207  ,\n",
      "       0.84731619, 0.85288809, 0.84944532, 0.85859499, 0.85437549,\n",
      "       0.84536785, 0.85496183, 0.85301422, 0.85743084, 0.8570787 ])}\n"
     ]
    }
   ],
   "source": [
    "print(scores)"
   ]
  },
  {
   "cell_type": "code",
   "execution_count": null,
   "id": "dcfe621f",
   "metadata": {},
   "outputs": [],
   "source": []
  },
  {
   "cell_type": "code",
   "execution_count": null,
   "id": "0a2bb533",
   "metadata": {},
   "outputs": [],
   "source": []
  },
  {
   "cell_type": "code",
   "execution_count": 189,
   "id": "340955b8",
   "metadata": {},
   "outputs": [],
   "source": [
    "from sklearn.ensemble import RandomForestClassifier\n",
    "# n_estimators = number of decision trees\n",
    "rf = RandomForestClassifier()"
   ]
  },
  {
   "cell_type": "code",
   "execution_count": 190,
   "id": "8987384e",
   "metadata": {},
   "outputs": [],
   "source": [
    "pipeline = Pipeline(steps=[('m', rf)])\n",
    "cv = RepeatedStratifiedKFold(n_splits=10, n_repeats=3, random_state=20902490)\n",
    "scores = cross_validate(pipeline, modified_X, y, scoring=['roc_auc', 'f1'], cv=cv, n_jobs=-1)"
   ]
  },
  {
   "cell_type": "code",
   "execution_count": 191,
   "id": "f23f7d53",
   "metadata": {},
   "outputs": [
    {
     "name": "stdout",
     "output_type": "stream",
     "text": [
      "{'fit_time': array([139.32483244, 145.73354483, 132.26152802, 128.90371704,\n",
      "       128.7939508 , 128.77832341, 132.10489535, 135.08932972,\n",
      "       138.82246614, 127.47626519, 143.93759537, 138.10048842,\n",
      "       122.51007533, 132.4314127 , 140.58974814, 136.4311316 ,\n",
      "       142.29103589, 131.29991937, 149.15325999, 129.45667768,\n",
      "       122.94607639, 135.20798063, 138.41315198, 134.22465229,\n",
      "        86.32518744,  80.76581192,  81.11117983,  79.22892046,\n",
      "        78.58404326,  77.60858774]), 'score_time': array([2.42153692, 2.40145278, 2.41749787, 2.36851835, 2.76074338,\n",
      "       2.66659665, 2.98443437, 2.90549684, 2.59418321, 2.33733177,\n",
      "       2.40810752, 2.48487759, 2.41082621, 2.49439144, 2.95690155,\n",
      "       2.38509703, 2.32845712, 2.44657254, 1.58469033, 2.4549377 ,\n",
      "       2.41530776, 2.40698385, 1.86725903, 2.14852381, 1.41556501,\n",
      "       1.36477757, 1.3188498 , 1.20757651, 1.13453507, 0.90980554]), 'test_roc_auc': array([0.9664545 , 0.96621014, 0.96779518, 0.96747262, 0.96433145,\n",
      "       0.96564003, 0.96601276, 0.96624964, 0.96806873, 0.96695689,\n",
      "       0.96748696, 0.96600946, 0.96589425, 0.9668149 , 0.96707462,\n",
      "       0.96705953, 0.96557755, 0.96532866, 0.96718633, 0.96661815,\n",
      "       0.96654238, 0.96482146, 0.96631896, 0.96847344, 0.96688544,\n",
      "       0.96484675, 0.96466518, 0.96527678, 0.96788892, 0.96750086]), 'test_f1': array([0.86722461, 0.8688027 , 0.86795854, 0.87872674, 0.86623772,\n",
      "       0.86949686, 0.87037872, 0.87400426, 0.87017385, 0.87205501,\n",
      "       0.8739439 , 0.86668165, 0.87073143, 0.87229951, 0.87140764,\n",
      "       0.87464805, 0.86541506, 0.87327731, 0.86878235, 0.87170237,\n",
      "       0.86662153, 0.86991687, 0.86798007, 0.87327422, 0.86915361,\n",
      "       0.86529319, 0.87199641, 0.87170237, 0.87679533, 0.8736122 ])}\n"
     ]
    }
   ],
   "source": [
    "print(scores)"
   ]
  },
  {
   "cell_type": "code",
   "execution_count": 192,
   "id": "949de39e",
   "metadata": {},
   "outputs": [],
   "source": [
    "from sklearn.model_selection import train_test_split"
   ]
  },
  {
   "cell_type": "code",
   "execution_count": 193,
   "id": "acab2ebc",
   "metadata": {},
   "outputs": [],
   "source": [
    "X_train, X_test, y_train, y_test = train_test_split(modified_X, y, test_size=0.2, random_state=20902490)"
   ]
  },
  {
   "cell_type": "code",
   "execution_count": 194,
   "id": "9b0f9e74",
   "metadata": {},
   "outputs": [
    {
     "data": {
      "text/plain": [
       "(115178, 65)"
      ]
     },
     "execution_count": 194,
     "metadata": {},
     "output_type": "execute_result"
    }
   ],
   "source": [
    "X_train.shape"
   ]
  },
  {
   "cell_type": "code",
   "execution_count": 196,
   "id": "a692b8f7",
   "metadata": {},
   "outputs": [],
   "source": [
    "import tensorflow as tf"
   ]
  },
  {
   "cell_type": "code",
   "execution_count": 198,
   "id": "55424102",
   "metadata": {},
   "outputs": [],
   "source": [
    "import tensorflow_addons as tfa"
   ]
  },
  {
   "cell_type": "code",
   "execution_count": 199,
   "id": "83db31e7",
   "metadata": {},
   "outputs": [],
   "source": [
    "model = tf.keras.Sequential()\n",
    "model.add(tf.keras.layers.Dense(100, activation='relu', input_dim=65))\n",
    "model.add(tf.keras.layers.Dense(50, activation='relu'))\n",
    "model.add(tf.keras.layers.Dense(1, activation='sigmoid'))"
   ]
  },
  {
   "cell_type": "code",
   "execution_count": 200,
   "id": "ab79ef79",
   "metadata": {},
   "outputs": [],
   "source": [
    "model.compile(optimizer=tf.keras.optimizers.Adam(learning_rate=0.00001),\n",
    "                      loss=tf.keras.losses.BinaryCrossentropy(),\n",
    "                      metrics=[tf.keras.metrics.BinaryAccuracy(),\n",
    "                               tfa.metrics.F1Score(num_classes=1, average='macro',threshold=0.5),\n",
    "                               tfa.metrics.FBetaScore(beta=2.0, num_classes=1, average='macro',threshold=0.5)])"
   ]
  },
  {
   "cell_type": "code",
   "execution_count": 201,
   "id": "a2df8e24",
   "metadata": {},
   "outputs": [],
   "source": [
    "class_weight = {False: 1.,\n",
    "                True: 2.}"
   ]
  },
  {
   "cell_type": "code",
   "execution_count": 202,
   "id": "6a7d0b92",
   "metadata": {},
   "outputs": [
    {
     "ename": "ValueError",
     "evalue": "Failed to convert a NumPy array to a Tensor (Unsupported object type bool).",
     "output_type": "error",
     "traceback": [
      "\u001b[1;31m---------------------------------------------------------------------------\u001b[0m",
      "\u001b[1;31mValueError\u001b[0m                                Traceback (most recent call last)",
      "Input \u001b[1;32mIn [202]\u001b[0m, in \u001b[0;36m<cell line: 1>\u001b[1;34m()\u001b[0m\n\u001b[1;32m----> 1\u001b[0m history \u001b[38;5;241m=\u001b[39m \u001b[43mmodel\u001b[49m\u001b[38;5;241;43m.\u001b[39;49m\u001b[43mfit\u001b[49m\u001b[43m(\u001b[49m\u001b[43mX_train\u001b[49m\u001b[43m,\u001b[49m\u001b[43m \u001b[49m\u001b[43my_train\u001b[49m\u001b[43m,\u001b[49m\u001b[43m \u001b[49m\u001b[43mvalidation_data\u001b[49m\u001b[38;5;241;43m=\u001b[39;49m\u001b[43m(\u001b[49m\u001b[43mX_test\u001b[49m\u001b[43m,\u001b[49m\u001b[43my_test\u001b[49m\u001b[43m)\u001b[49m\u001b[43m,\u001b[49m\u001b[43m \u001b[49m\u001b[43mepochs\u001b[49m\u001b[38;5;241;43m=\u001b[39;49m\u001b[38;5;241;43m100\u001b[39;49m\u001b[43m,\u001b[49m\u001b[43m \u001b[49m\u001b[43mbatch_size\u001b[49m\u001b[38;5;241;43m=\u001b[39;49m\u001b[38;5;241;43m512\u001b[39;49m\u001b[43m,\u001b[49m\u001b[43m \u001b[49m\u001b[43mclass_weight\u001b[49m\u001b[38;5;241;43m=\u001b[39;49m\u001b[43mclass_weight\u001b[49m\u001b[43m)\u001b[49m\n",
      "File \u001b[1;32m~\\anaconda3\\lib\\site-packages\\keras\\utils\\traceback_utils.py:70\u001b[0m, in \u001b[0;36mfilter_traceback.<locals>.error_handler\u001b[1;34m(*args, **kwargs)\u001b[0m\n\u001b[0;32m     67\u001b[0m     filtered_tb \u001b[38;5;241m=\u001b[39m _process_traceback_frames(e\u001b[38;5;241m.\u001b[39m__traceback__)\n\u001b[0;32m     68\u001b[0m     \u001b[38;5;66;03m# To get the full stack trace, call:\u001b[39;00m\n\u001b[0;32m     69\u001b[0m     \u001b[38;5;66;03m# `tf.debugging.disable_traceback_filtering()`\u001b[39;00m\n\u001b[1;32m---> 70\u001b[0m     \u001b[38;5;28;01mraise\u001b[39;00m e\u001b[38;5;241m.\u001b[39mwith_traceback(filtered_tb) \u001b[38;5;28;01mfrom\u001b[39;00m \u001b[38;5;28mNone\u001b[39m\n\u001b[0;32m     71\u001b[0m \u001b[38;5;28;01mfinally\u001b[39;00m:\n\u001b[0;32m     72\u001b[0m     \u001b[38;5;28;01mdel\u001b[39;00m filtered_tb\n",
      "File \u001b[1;32m~\\anaconda3\\lib\\site-packages\\tensorflow\\python\\framework\\constant_op.py:102\u001b[0m, in \u001b[0;36mconvert_to_eager_tensor\u001b[1;34m(value, ctx, dtype)\u001b[0m\n\u001b[0;32m    100\u001b[0m     dtype \u001b[38;5;241m=\u001b[39m dtypes\u001b[38;5;241m.\u001b[39mas_dtype(dtype)\u001b[38;5;241m.\u001b[39mas_datatype_enum\n\u001b[0;32m    101\u001b[0m ctx\u001b[38;5;241m.\u001b[39mensure_initialized()\n\u001b[1;32m--> 102\u001b[0m \u001b[38;5;28;01mreturn\u001b[39;00m \u001b[43mops\u001b[49m\u001b[38;5;241;43m.\u001b[39;49m\u001b[43mEagerTensor\u001b[49m\u001b[43m(\u001b[49m\u001b[43mvalue\u001b[49m\u001b[43m,\u001b[49m\u001b[43m \u001b[49m\u001b[43mctx\u001b[49m\u001b[38;5;241;43m.\u001b[39;49m\u001b[43mdevice_name\u001b[49m\u001b[43m,\u001b[49m\u001b[43m \u001b[49m\u001b[43mdtype\u001b[49m\u001b[43m)\u001b[49m\n",
      "\u001b[1;31mValueError\u001b[0m: Failed to convert a NumPy array to a Tensor (Unsupported object type bool)."
     ]
    }
   ],
   "source": [
    "history = model.fit(X_train, y_train, validation_data=(X_test,y_test), epochs=100, batch_size=512, class_weight=class_weight)"
   ]
  },
  {
   "cell_type": "code",
   "execution_count": 205,
   "id": "7574a757",
   "metadata": {},
   "outputs": [
    {
     "ename": "NameError",
     "evalue": "name 'd' is not defined",
     "output_type": "error",
     "traceback": [
      "\u001b[1;31m---------------------------------------------------------------------------\u001b[0m",
      "\u001b[1;31mNameError\u001b[0m                                 Traceback (most recent call last)",
      "Input \u001b[1;32mIn [205]\u001b[0m, in \u001b[0;36m<cell line: 1>\u001b[1;34m()\u001b[0m\n\u001b[1;32m----> 1\u001b[0m \u001b[43md\u001b[49m\n",
      "\u001b[1;31mNameError\u001b[0m: name 'd' is not defined"
     ]
    }
   ],
   "source": [
    "d"
   ]
  }
 ],
 "metadata": {
  "kernelspec": {
   "display_name": "Python 3 (ipykernel)",
   "language": "python",
   "name": "python3"
  },
  "language_info": {
   "codemirror_mode": {
    "name": "ipython",
    "version": 3
   },
   "file_extension": ".py",
   "mimetype": "text/x-python",
   "name": "python",
   "nbconvert_exporter": "python",
   "pygments_lexer": "ipython3",
   "version": "3.9.12"
  }
 },
 "nbformat": 4,
 "nbformat_minor": 5
}
