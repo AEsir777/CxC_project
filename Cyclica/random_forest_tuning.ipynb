{
 "cells": [
  {
   "cell_type": "code",
   "execution_count": 3,
   "id": "22a4660f",
   "metadata": {},
   "outputs": [],
   "source": [
    "from sklearn.model_selection import RepeatedStratifiedKFold\n",
    "from sklearn.ensemble import RandomForestClassifier\n",
    "from sklearn.model_selection import cross_validate\n",
    "from sklearn.model_selection import RandomizedSearchCV\n",
    "\n",
    "from sklearn import metrics\n",
    "from sklearn.metrics import make_scorer"
   ]
  },
  {
   "cell_type": "code",
   "execution_count": 9,
   "id": "9d28637a",
   "metadata": {},
   "outputs": [],
   "source": [
    "import pandas as pd\n",
    "import numpy as np"
   ]
  },
  {
   "cell_type": "code",
   "execution_count": 2,
   "id": "e176e120",
   "metadata": {},
   "outputs": [],
   "source": [
    "def make_auc_pr(y_true, y_pred):\n",
    "    precision, recall, _ = metrics.precision_recall_curve(y_true, y_pred)\n",
    "    res = metrics.auc(recall, precision)\n",
    "    print(res)\n",
    "    return res\n",
    "auc_pr = make_scorer(make_auc_pr)"
   ]
  },
  {
   "cell_type": "code",
   "execution_count": 4,
   "id": "f3390a5c",
   "metadata": {},
   "outputs": [],
   "source": [
    "rf = RandomForestClassifier()"
   ]
  },
  {
   "cell_type": "code",
   "execution_count": 5,
   "id": "8e76bb87",
   "metadata": {},
   "outputs": [],
   "source": [
    "class_weight = {False: 1.,\n",
    "                True: 1.2}"
   ]
  },
  {
   "cell_type": "code",
   "execution_count": 6,
   "id": "80198d56",
   "metadata": {},
   "outputs": [],
   "source": [
    "random_grid = {'bootstrap': [True, False],\n",
    "               'max_depth': [10, 20, 30, 40, 50, 60, 70, 80, 90, 100, None],\n",
    "               'max_features': ['auto', 'sqrt'], 'min_samples_leaf': [1, 2, 4],\n",
    "               'min_samples_split': [2, 5, 10], \n",
    "               'n_estimators': [200, 400, 600, 800, 1000, 1200, 1400, 1600, 1800, 2000],\n",
    "               'class_weight': [\"balanced\", class_weight]}"
   ]
  },
  {
   "cell_type": "code",
   "execution_count": 7,
   "id": "1bd03cd1",
   "metadata": {},
   "outputs": [],
   "source": [
    "cv = RepeatedStratifiedKFold(n_splits=5, n_repeats=1, random_state=20902490)\n",
    "rf_random = RandomizedSearchCV(estimator = rf, param_distributions = random_grid, n_iter = 100, cv = cv, \n",
    "                               verbose=3, random_state=20902490, scoring={'roc_auc': 'roc_auc', 'auc_pr': auc_pr, 'f1': 'f1'},  \n",
    "                               n_jobs=-1, refit = 'auc_pr')"
   ]
  },
  {
   "cell_type": "code",
   "execution_count": null,
   "id": "463cf797",
   "metadata": {},
   "outputs": [],
   "source": []
  },
  {
   "cell_type": "code",
   "execution_count": 25,
   "id": "c940d5cd",
   "metadata": {},
   "outputs": [
    {
     "name": "stdout",
     "output_type": "stream",
     "text": [
      "[[6.00000000e+00 0.00000000e+00 0.00000000e+00 ... 4.84017901e-01\n",
      "  7.18000000e+02 2.02000000e+02]\n",
      " [0.00000000e+00 1.00000000e+00 0.00000000e+00 ... 4.84200328e-01\n",
      "  3.65000000e+02 3.38000000e+02]\n",
      " [1.20000000e+01 0.00000000e+00 0.00000000e+00 ... 4.73467550e-01\n",
      "  7.18000000e+02 1.79500000e+03]\n",
      " ...\n",
      " [9.20922902e+00 0.00000000e+00 0.00000000e+00 ... 4.77037648e-01\n",
      "  6.29209229e+02 8.17907710e+01]\n",
      " [1.03861580e+01 0.00000000e+00 0.00000000e+00 ... 4.32597445e-01\n",
      "  7.08227684e+02 9.19307902e+01]\n",
      " [3.27461130e+00 0.00000000e+00 0.00000000e+00 ... 4.69333429e-01\n",
      "  4.33000000e+02 7.22708117e+02]]\n"
     ]
    }
   ],
   "source": [
    "X_train = pd.read_csv(\"X_train.csv.gz\", header=None)\n",
    "X_train = X_train.values\n",
    "print(X_train)"
   ]
  },
  {
   "cell_type": "code",
   "execution_count": 26,
   "id": "b275e883",
   "metadata": {},
   "outputs": [
    {
     "name": "stdout",
     "output_type": "stream",
     "text": [
      "[False False False ...  True  True  True]\n"
     ]
    }
   ],
   "source": [
    "y_train = pd.read_csv(\"y_train.csv.gz\", header=None)\n",
    "y_train = y_train.values.ravel()\n",
    "print(y_train)"
   ]
  },
  {
   "cell_type": "code",
   "execution_count": null,
   "id": "18eb1295",
   "metadata": {},
   "outputs": [],
   "source": []
  },
  {
   "cell_type": "code",
   "execution_count": 27,
   "id": "1791bf5e",
   "metadata": {},
   "outputs": [
    {
     "data": {
      "text/plain": [
       "(539901, 48)"
      ]
     },
     "execution_count": 27,
     "metadata": {},
     "output_type": "execute_result"
    }
   ],
   "source": [
    "X_train.shape"
   ]
  },
  {
   "cell_type": "code",
   "execution_count": null,
   "id": "02696c6f",
   "metadata": {},
   "outputs": [
    {
     "name": "stdout",
     "output_type": "stream",
     "text": [
      "Fitting 5 folds for each of 100 candidates, totalling 500 fits\n"
     ]
    }
   ],
   "source": [
    "rf_random.fit(X_train, y_train)"
   ]
  }
 ],
 "metadata": {
  "kernelspec": {
   "display_name": "Python 3 (ipykernel)",
   "language": "python",
   "name": "python3"
  },
  "language_info": {
   "codemirror_mode": {
    "name": "ipython",
    "version": 3
   },
   "file_extension": ".py",
   "mimetype": "text/x-python",
   "name": "python",
   "nbconvert_exporter": "python",
   "pygments_lexer": "ipython3",
   "version": "3.9.12"
  }
 },
 "nbformat": 4,
 "nbformat_minor": 5
}
