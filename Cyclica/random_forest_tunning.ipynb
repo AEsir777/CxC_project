{
 "cells": [
  {
   "cell_type": "code",
   "execution_count": 1,
   "id": "22a4660f",
   "metadata": {},
   "outputs": [],
   "source": [
    "from sklearn.model_selection import RepeatedStratifiedKFold\n",
    "from sklearn.ensemble import RandomForestClassifier\n",
    "from sklearn.model_selection import cross_validate\n",
    "from sklearn.model_selection import RandomizedSearchCV\n",
    "\n",
    "from sklearn import metrics\n",
    "from sklearn.metrics import make_scorer"
   ]
  },
  {
   "cell_type": "code",
   "execution_count": 2,
   "id": "9d28637a",
   "metadata": {},
   "outputs": [],
   "source": [
    "import pandas as pd\n",
    "import numpy as np"
   ]
  },
  {
   "cell_type": "code",
   "execution_count": 3,
   "id": "e176e120",
   "metadata": {},
   "outputs": [],
   "source": [
    "def make_auc_pr(y_true, y_pred):\n",
    "    precision, recall, _ = metrics.precision_recall_curve(y_true, y_pred)\n",
    "    res = metrics.auc(recall, precision)\n",
    "    return res\n",
    "auc_pr = make_scorer(make_auc_pr)"
   ]
  },
  {
   "cell_type": "code",
   "execution_count": 4,
   "id": "f3390a5c",
   "metadata": {},
   "outputs": [],
   "source": [
    "rf = RandomForestClassifier()"
   ]
  },
  {
   "cell_type": "code",
   "execution_count": 4,
   "id": "8e76bb87",
   "metadata": {},
   "outputs": [],
   "source": [
    "class_weight = {False: 1.,\n",
    "                True: 1.2}"
   ]
  },
  {
   "cell_type": "code",
   "execution_count": 5,
   "id": "80198d56",
   "metadata": {},
   "outputs": [],
   "source": [
    "random_grid = {'bootstrap': [True, False],\n",
    "               'max_depth': [10, 20, 30, 40, 50, 60, 70, 80, 90, 100, None],\n",
    "               'max_features': ['auto', 'sqrt'], 'min_samples_leaf': [1, 2, 4],\n",
    "               'min_samples_split': [2, 5, 10], \n",
    "               'n_estimators': [200, 400, 600, 800, 1000, 1200, 1400, 1600, 1800, 2000],\n",
    "               'class_weight': [\"balanced\", class_weight]}"
   ]
  },
  {
   "cell_type": "code",
   "execution_count": 7,
   "id": "1bd03cd1",
   "metadata": {},
   "outputs": [],
   "source": [
    "cv = RepeatedStratifiedKFold(n_splits=5, n_repeats=1, random_state=20902490)\n",
    "rf_random = RandomizedSearchCV(estimator = rf, param_distributions = random_grid, n_iter = 2, cv = cv, \n",
    "                               verbose=3, random_state=20902490, scoring={'roc_auc': 'roc_auc', 'auc_pr': auc_pr, 'f1': 'f1'},  \n",
    "                               n_jobs=1, refit = 'auc_pr')"
   ]
  },
  {
   "cell_type": "code",
   "execution_count": null,
   "id": "463cf797",
   "metadata": {},
   "outputs": [],
   "source": []
  },
  {
   "cell_type": "code",
   "execution_count": 6,
   "id": "c940d5cd",
   "metadata": {},
   "outputs": [
    {
     "name": "stdout",
     "output_type": "stream",
     "text": [
      "[[6.00000000e+00 0.00000000e+00 0.00000000e+00 ... 4.84017901e-01\n",
      "  7.18000000e+02 2.02000000e+02]\n",
      " [0.00000000e+00 1.00000000e+00 0.00000000e+00 ... 4.84200328e-01\n",
      "  3.65000000e+02 3.38000000e+02]\n",
      " [1.20000000e+01 0.00000000e+00 0.00000000e+00 ... 4.73467550e-01\n",
      "  7.18000000e+02 1.79500000e+03]\n",
      " ...\n",
      " [9.20922902e+00 0.00000000e+00 0.00000000e+00 ... 4.77037648e-01\n",
      "  6.29209229e+02 8.17907710e+01]\n",
      " [1.03861580e+01 0.00000000e+00 0.00000000e+00 ... 4.32597445e-01\n",
      "  7.08227684e+02 9.19307902e+01]\n",
      " [3.27461130e+00 0.00000000e+00 0.00000000e+00 ... 4.69333429e-01\n",
      "  4.33000000e+02 7.22708117e+02]]\n"
     ]
    }
   ],
   "source": [
    "X_train = pd.read_csv(\"X_train.csv.gz\", header=None)\n",
    "X_train = X_train.values\n",
    "print(X_train)"
   ]
  },
  {
   "cell_type": "code",
   "execution_count": 7,
   "id": "b275e883",
   "metadata": {},
   "outputs": [
    {
     "name": "stdout",
     "output_type": "stream",
     "text": [
      "[False False False ...  True  True  True]\n"
     ]
    }
   ],
   "source": [
    "y_train = pd.read_csv(\"y_train.csv.gz\", header=None)\n",
    "y_train = y_train.values.ravel()\n",
    "print(y_train)"
   ]
  },
  {
   "cell_type": "code",
   "execution_count": null,
   "id": "18eb1295",
   "metadata": {},
   "outputs": [],
   "source": []
  },
  {
   "cell_type": "code",
   "execution_count": 10,
   "id": "1791bf5e",
   "metadata": {},
   "outputs": [
    {
     "data": {
      "text/plain": [
       "(539901, 48)"
      ]
     },
     "execution_count": 10,
     "metadata": {},
     "output_type": "execute_result"
    }
   ],
   "source": [
    "X_train.shape"
   ]
  },
  {
   "cell_type": "code",
   "execution_count": 19,
   "id": "2ee6fb1b-736e-470e-bd47-b9945dd4261e",
   "metadata": {},
   "outputs": [],
   "source": [
    "def fit_model(rf):\n",
    "    cv = RepeatedStratifiedKFold(n_splits=10, n_repeats=1, random_state=20902490)\n",
    "    scores = cross_validate(rf, X_train, y_train, scoring={'roc_auc': 'roc_auc',\n",
    "                                                            'auc_pr': auc_pr,\n",
    "                                                            'f1': 'f1'}, cv=cv, n_jobs=-1)\n",
    "    return scores\n",
    "def find_mean(scores):\n",
    "    print(\"test_roc_auc: \", scores['test_roc_auc'].mean())\n",
    "    print(\"test_auc_pr: \", scores['test_auc_pr'].mean())    \n",
    "    print(\"f1: \", scores['test_f1'].mean())    "
   ]
  },
  {
   "cell_type": "code",
   "execution_count": 13,
   "id": "3dda37a1-ec17-4c5b-9ceb-451ee826902e",
   "metadata": {},
   "outputs": [
    {
     "name": "stdout",
     "output_type": "stream",
     "text": [
      "test_roc_auc:  0.9958320596602113\n",
      "test_auc_pr:  0.9852140447696396\n",
      "CPU times: user 421 ms, sys: 1.99 s, total: 2.41 s\n",
      "Wall time: 5min 56s\n",
      "0.9848884363832827\n",
      "0.986270697368472\n",
      "0.9853961621596794\n",
      "0.9849411962656242\n",
      "0.9852693009646776\n",
      "0.9851433601675232\n",
      "0.9850860470945382\n",
      "0.9843073726600624\n",
      "0.9858069100295492\n",
      "0.9850309646029861\n"
     ]
    }
   ],
   "source": [
    "%%time\n",
    "rf = RandomForestClassifier(class_weight=class_weight, bootstrap=False)\n",
    "find_mean(fit_model(rf))"
   ]
  },
  {
   "cell_type": "code",
   "execution_count": 17,
   "id": "f68faa9e-5658-42e3-8019-e40afb91e62f",
   "metadata": {},
   "outputs": [
    {
     "name": "stdout",
     "output_type": "stream",
     "text": [
      "test_roc_auc:  0.9958033119273203\n",
      "test_auc_pr:  0.9851803369292493\n",
      "CPU times: user 454 ms, sys: 2.56 s, total: 3.01 s\n",
      "Wall time: 7min 25s\n"
     ]
    }
   ],
   "source": [
    "%%time\n",
    "rf = RandomForestClassifier(class_weight=\"balanced\", bootstrap=False)\n",
    "find_mean(fit_model(rf))"
   ]
  },
  {
   "cell_type": "code",
   "execution_count": 18,
   "id": "e1aeea24-3bf6-484d-859b-4c7363556ae1",
   "metadata": {},
   "outputs": [
    {
     "name": "stdout",
     "output_type": "stream",
     "text": [
      "test_roc_auc:  0.9958371010848825\n",
      "test_auc_pr:  0.9852015980205497\n",
      "CPU times: user 401 ms, sys: 2.05 s, total: 2.45 s\n",
      "Wall time: 5min 26s\n"
     ]
    }
   ],
   "source": [
    "%%time\n",
    "rf = RandomForestClassifier(class_weight=class_weight, bootstrap=False, max_features=\"log2\")\n",
    "find_mean(fit_model(rf))"
   ]
  },
  {
   "cell_type": "code",
   "execution_count": 9,
   "id": "90bced9c-f800-4734-9753-1d5df26d3105",
   "metadata": {},
   "outputs": [
    {
     "name": "stdout",
     "output_type": "stream",
     "text": [
      "test_roc_auc:  0.9953969353088418\n",
      "test_auc_pr:  0.9850944579349346\n",
      "CPU times: user 385 ms, sys: 1.47 s, total: 1.86 s\n",
      "Wall time: 4min 5s\n"
     ]
    }
   ],
   "source": [
    "%%time\n",
    "rf = RandomForestClassifier(class_weight=class_weight, bootstrap=False, n_estimators=50)\n",
    "find_mean(fit_model(rf))"
   ]
  },
  {
   "cell_type": "code",
   "execution_count": 10,
   "id": "36dd62cf-c05a-4480-8541-468fdd90fce0",
   "metadata": {},
   "outputs": [
    {
     "name": "stdout",
     "output_type": "stream",
     "text": [
      "test_roc_auc:  0.9951009283717644\n",
      "test_auc_pr:  0.9850979674715667\n",
      "CPU times: user 313 ms, sys: 1.32 s, total: 1.63 s\n",
      "Wall time: 2min 25s\n"
     ]
    }
   ],
   "source": [
    "%%time\n",
    "rf = RandomForestClassifier(class_weight=class_weight, bootstrap=False, n_estimators=40)\n",
    "find_mean(fit_model(rf))"
   ]
  },
  {
   "cell_type": "code",
   "execution_count": 13,
   "id": "9a5d5e19-21d7-461c-8b4d-b80127af33b3",
   "metadata": {},
   "outputs": [
    {
     "name": "stdout",
     "output_type": "stream",
     "text": [
      "test_roc_auc:  0.9957325369020325\n",
      "test_auc_pr:  0.9851804940420884\n",
      "CPU times: user 355 ms, sys: 1.58 s, total: 1.93 s\n",
      "Wall time: 5min 39s\n"
     ]
    }
   ],
   "source": [
    "%%time\n",
    "rf = RandomForestClassifier(class_weight=class_weight, bootstrap=False, n_estimators=80, max_features=\"log2\")\n",
    "find_mean(fit_model(rf))"
   ]
  },
  {
   "cell_type": "code",
   "execution_count": 14,
   "id": "16c4d9f6-a08b-49b4-95e6-544881541e7e",
   "metadata": {},
   "outputs": [
    {
     "name": "stdout",
     "output_type": "stream",
     "text": [
      "test_roc_auc:  0.9957639438367799\n",
      "test_auc_pr:  0.9852021567392093\n",
      "CPU times: user 389 ms, sys: 1.5 s, total: 1.89 s\n",
      "Wall time: 6min 53s\n"
     ]
    }
   ],
   "source": [
    "%%time\n",
    "rf = RandomForestClassifier(class_weight=class_weight, bootstrap=False, min_samples_split=4, max_features=\"log2\")\n",
    "find_mean(fit_model(rf))"
   ]
  },
  {
   "cell_type": "code",
   "execution_count": 17,
   "id": "6abfa4a3-a1f3-466f-a45d-a0b7d9e498e6",
   "metadata": {},
   "outputs": [
    {
     "name": "stdout",
     "output_type": "stream",
     "text": [
      "test_roc_auc:  0.9958371557169794\n",
      "test_auc_pr:  0.9853128643354252\n"
     ]
    },
    {
     "ename": "KeyError",
     "evalue": "'f1'",
     "output_type": "error",
     "traceback": [
      "\u001b[0;31m---------------------------------------------------------------------------\u001b[0m",
      "\u001b[0;31mKeyError\u001b[0m                                  Traceback (most recent call last)",
      "File \u001b[0;32m<timed exec>:2\u001b[0m, in \u001b[0;36m<module>\u001b[0;34m\u001b[0m\n",
      "Input \u001b[0;32mIn [16]\u001b[0m, in \u001b[0;36mfind_mean\u001b[0;34m(scores)\u001b[0m\n\u001b[1;32m      8\u001b[0m \u001b[38;5;28mprint\u001b[39m(\u001b[38;5;124m\"\u001b[39m\u001b[38;5;124mtest_roc_auc: \u001b[39m\u001b[38;5;124m\"\u001b[39m, scores[\u001b[38;5;124m'\u001b[39m\u001b[38;5;124mtest_roc_auc\u001b[39m\u001b[38;5;124m'\u001b[39m]\u001b[38;5;241m.\u001b[39mmean())\n\u001b[1;32m      9\u001b[0m \u001b[38;5;28mprint\u001b[39m(\u001b[38;5;124m\"\u001b[39m\u001b[38;5;124mtest_auc_pr: \u001b[39m\u001b[38;5;124m\"\u001b[39m, scores[\u001b[38;5;124m'\u001b[39m\u001b[38;5;124mtest_auc_pr\u001b[39m\u001b[38;5;124m'\u001b[39m]\u001b[38;5;241m.\u001b[39mmean())    \n\u001b[0;32m---> 10\u001b[0m \u001b[38;5;28mprint\u001b[39m(\u001b[38;5;124m\"\u001b[39m\u001b[38;5;124mf1: \u001b[39m\u001b[38;5;124m\"\u001b[39m, \u001b[43mscores\u001b[49m\u001b[43m[\u001b[49m\u001b[38;5;124;43m'\u001b[39;49m\u001b[38;5;124;43mf1\u001b[39;49m\u001b[38;5;124;43m'\u001b[39;49m\u001b[43m]\u001b[49m\u001b[38;5;241m.\u001b[39mmean())\n",
      "\u001b[0;31mKeyError\u001b[0m: 'f1'"
     ]
    }
   ],
   "source": [
    "%%time\n",
    "rf = RandomForestClassifier(class_weight=class_weight, bootstrap=False, min_samples_split=3, max_features=\"log2\")\n",
    "find_mean(fit_model(rf))"
   ]
  },
  {
   "cell_type": "code",
   "execution_count": 18,
   "id": "b9aa6f1f-f255-4f3f-b9a0-4f8aaa78d9df",
   "metadata": {},
   "outputs": [
    {
     "name": "stdout",
     "output_type": "stream",
     "text": [
      "{'fit_time': array([346.67877436, 347.49304032, 359.11962438, 360.48259306,\n",
      "       361.86490345, 364.46322036, 360.89819956, 361.75755143,\n",
      "       359.79783368, 346.64535046]), 'score_time': array([2.33261895, 2.22300458, 2.25769258, 2.15511036, 2.18002033,\n",
      "       2.13830256, 2.26030898, 2.16880941, 2.17769766, 2.28469372]), 'test_roc_auc': array([0.99209457, 0.99287761, 0.99229443, 0.99274261, 0.99260466,\n",
      "       0.99284065, 0.99310791, 0.99271127, 0.99246793, 0.99212269]), 'test_auc_pr': array([0.97563882, 0.9767345 , 0.97674291, 0.97729112, 0.97648223,\n",
      "       0.97629069, 0.97803127, 0.97681631, 0.97738445, 0.97703925]), 'test_f1': array([0.96355348, 0.96521334, 0.96528351, 0.96595844, 0.96520635,\n",
      "       0.96535836, 0.96767105, 0.96586872, 0.96561234, 0.96602353])}\n",
      "CPU times: user 387 ms, sys: 1.5 s, total: 1.89 s\n",
      "Wall time: 6min 8s\n"
     ]
    }
   ],
   "source": [
    "%%time\n",
    "rf = RandomForestClassifier(class_weight=class_weight, bootstrap=False, min_samples_split=3, max_features=\"log2\", max_depth=20)\n",
    "scores = fit_model(rf)\n",
    "print(scores)"
   ]
  },
  {
   "cell_type": "code",
   "execution_count": 20,
   "id": "db646f7d-1425-4786-9aec-ce493ae368b2",
   "metadata": {},
   "outputs": [
    {
     "name": "stdout",
     "output_type": "stream",
     "text": [
      "test_roc_auc:  0.9925864335844444\n",
      "test_auc_pr:  0.9768451560413192\n",
      "f1:  0.9655749111422317\n"
     ]
    }
   ],
   "source": [
    "find_mean(scores)"
   ]
  },
  {
   "cell_type": "code",
   "execution_count": 21,
   "id": "57afa825-45f1-4eba-aabb-b6f962d259cb",
   "metadata": {},
   "outputs": [
    {
     "name": "stdout",
     "output_type": "stream",
     "text": [
      "test_roc_auc:  0.995805257018924\n",
      "test_auc_pr:  0.9852732771808717\n",
      "f1:  0.9743574301877855\n",
      "CPU times: user 410 ms, sys: 1.5 s, total: 1.91 s\n",
      "Wall time: 7min 13s\n"
     ]
    }
   ],
   "source": [
    "%%time\n",
    "rf = RandomForestClassifier(class_weight=class_weight, bootstrap=False, min_samples_split=3, max_features=\"log2\", max_depth=50)\n",
    "find_mean(fit_model(rf))"
   ]
  },
  {
   "cell_type": "code",
   "execution_count": 26,
   "id": "0c40cae0-8e3d-44ff-8c25-b99989ec6a30",
   "metadata": {},
   "outputs": [
    {
     "name": "stdout",
     "output_type": "stream",
     "text": [
      "test_roc_auc:  0.995076792011487\n",
      "test_auc_pr:  0.9841558670347463\n",
      "f1:  0.9723508964423845\n",
      "CPU times: user 391 ms, sys: 1.59 s, total: 1.98 s\n",
      "Wall time: 6min 51s\n"
     ]
    }
   ],
   "source": [
    "%%time\n",
    "rf = RandomForestClassifier(class_weight=class_weight, bootstrap=False, min_samples_split=3, max_features=\"log2\", min_samples_leaf=5)\n",
    "find_mean(fit_model(rf))"
   ]
  },
  {
   "cell_type": "code",
   "execution_count": 27,
   "id": "6da87df4-5bad-447e-8956-9676fd33b7a5",
   "metadata": {},
   "outputs": [
    {
     "data": {
      "text/html": [
       "<style>#sk-container-id-1 {color: black;background-color: white;}#sk-container-id-1 pre{padding: 0;}#sk-container-id-1 div.sk-toggleable {background-color: white;}#sk-container-id-1 label.sk-toggleable__label {cursor: pointer;display: block;width: 100%;margin-bottom: 0;padding: 0.3em;box-sizing: border-box;text-align: center;}#sk-container-id-1 label.sk-toggleable__label-arrow:before {content: \"▸\";float: left;margin-right: 0.25em;color: #696969;}#sk-container-id-1 label.sk-toggleable__label-arrow:hover:before {color: black;}#sk-container-id-1 div.sk-estimator:hover label.sk-toggleable__label-arrow:before {color: black;}#sk-container-id-1 div.sk-toggleable__content {max-height: 0;max-width: 0;overflow: hidden;text-align: left;background-color: #f0f8ff;}#sk-container-id-1 div.sk-toggleable__content pre {margin: 0.2em;color: black;border-radius: 0.25em;background-color: #f0f8ff;}#sk-container-id-1 input.sk-toggleable__control:checked~div.sk-toggleable__content {max-height: 200px;max-width: 100%;overflow: auto;}#sk-container-id-1 input.sk-toggleable__control:checked~label.sk-toggleable__label-arrow:before {content: \"▾\";}#sk-container-id-1 div.sk-estimator input.sk-toggleable__control:checked~label.sk-toggleable__label {background-color: #d4ebff;}#sk-container-id-1 div.sk-label input.sk-toggleable__control:checked~label.sk-toggleable__label {background-color: #d4ebff;}#sk-container-id-1 input.sk-hidden--visually {border: 0;clip: rect(1px 1px 1px 1px);clip: rect(1px, 1px, 1px, 1px);height: 1px;margin: -1px;overflow: hidden;padding: 0;position: absolute;width: 1px;}#sk-container-id-1 div.sk-estimator {font-family: monospace;background-color: #f0f8ff;border: 1px dotted black;border-radius: 0.25em;box-sizing: border-box;margin-bottom: 0.5em;}#sk-container-id-1 div.sk-estimator:hover {background-color: #d4ebff;}#sk-container-id-1 div.sk-parallel-item::after {content: \"\";width: 100%;border-bottom: 1px solid gray;flex-grow: 1;}#sk-container-id-1 div.sk-label:hover label.sk-toggleable__label {background-color: #d4ebff;}#sk-container-id-1 div.sk-serial::before {content: \"\";position: absolute;border-left: 1px solid gray;box-sizing: border-box;top: 0;bottom: 0;left: 50%;z-index: 0;}#sk-container-id-1 div.sk-serial {display: flex;flex-direction: column;align-items: center;background-color: white;padding-right: 0.2em;padding-left: 0.2em;position: relative;}#sk-container-id-1 div.sk-item {position: relative;z-index: 1;}#sk-container-id-1 div.sk-parallel {display: flex;align-items: stretch;justify-content: center;background-color: white;position: relative;}#sk-container-id-1 div.sk-item::before, #sk-container-id-1 div.sk-parallel-item::before {content: \"\";position: absolute;border-left: 1px solid gray;box-sizing: border-box;top: 0;bottom: 0;left: 50%;z-index: -1;}#sk-container-id-1 div.sk-parallel-item {display: flex;flex-direction: column;z-index: 1;position: relative;background-color: white;}#sk-container-id-1 div.sk-parallel-item:first-child::after {align-self: flex-end;width: 50%;}#sk-container-id-1 div.sk-parallel-item:last-child::after {align-self: flex-start;width: 50%;}#sk-container-id-1 div.sk-parallel-item:only-child::after {width: 0;}#sk-container-id-1 div.sk-dashed-wrapped {border: 1px dashed gray;margin: 0 0.4em 0.5em 0.4em;box-sizing: border-box;padding-bottom: 0.4em;background-color: white;}#sk-container-id-1 div.sk-label label {font-family: monospace;font-weight: bold;display: inline-block;line-height: 1.2em;}#sk-container-id-1 div.sk-label-container {text-align: center;}#sk-container-id-1 div.sk-container {/* jupyter's `normalize.less` sets `[hidden] { display: none; }` but bootstrap.min.css set `[hidden] { display: none !important; }` so we also need the `!important` here to be able to override the default hidden behavior on the sphinx rendered scikit-learn.org. See: https://github.com/scikit-learn/scikit-learn/issues/21755 */display: inline-block !important;position: relative;}#sk-container-id-1 div.sk-text-repr-fallback {display: none;}</style><div id=\"sk-container-id-1\" class=\"sk-top-container\"><div class=\"sk-text-repr-fallback\"><pre>RandomForestClassifier(bootstrap=False, class_weight={False: 1.0, True: 1.2},\n",
       "                       max_features=&#x27;log2&#x27;, min_samples_split=3)</pre><b>In a Jupyter environment, please rerun this cell to show the HTML representation or trust the notebook. <br />On GitHub, the HTML representation is unable to render, please try loading this page with nbviewer.org.</b></div><div class=\"sk-container\" hidden><div class=\"sk-item\"><div class=\"sk-estimator sk-toggleable\"><input class=\"sk-toggleable__control sk-hidden--visually\" id=\"sk-estimator-id-1\" type=\"checkbox\" checked><label for=\"sk-estimator-id-1\" class=\"sk-toggleable__label sk-toggleable__label-arrow\">RandomForestClassifier</label><div class=\"sk-toggleable__content\"><pre>RandomForestClassifier(bootstrap=False, class_weight={False: 1.0, True: 1.2},\n",
       "                       max_features=&#x27;log2&#x27;, min_samples_split=3)</pre></div></div></div></div></div>"
      ],
      "text/plain": [
       "RandomForestClassifier(bootstrap=False, class_weight={False: 1.0, True: 1.2},\n",
       "                       max_features='log2', min_samples_split=3)"
      ]
     },
     "execution_count": 27,
     "metadata": {},
     "output_type": "execute_result"
    }
   ],
   "source": [
    "final_rf = RandomForestClassifier(class_weight=class_weight, bootstrap=False, min_samples_split=3, max_features=\"log2\")\n",
    "final_rf.fit(X_train, y_train)"
   ]
  },
  {
   "cell_type": "code",
   "execution_count": null,
   "id": "54927766-0abc-4d94-9634-b1b49ef32c83",
   "metadata": {},
   "outputs": [],
   "source": []
  },
  {
   "cell_type": "markdown",
   "id": "e5de6fa6-ff3e-42ef-8bec-ae3f99d0dd32",
   "metadata": {},
   "source": [
    "### feature importance"
   ]
  },
  {
   "cell_type": "code",
   "execution_count": 31,
   "id": "4edeb8d2-ebab-49d9-b34b-137ece7ba254",
   "metadata": {},
   "outputs": [
    {
     "name": "stdout",
     "output_type": "stream",
     "text": [
      "[0.02232983 0.00705508 0.00177691 0.0047551  0.00874507 0.00757402\n",
      " 0.01182155 0.0026115  0.00785909 0.0081648  0.01679853 0.00247372\n",
      " 0.00498238 0.00504316 0.00400133 0.00582615 0.0100191  0.00442756\n",
      " 0.00639678 0.00142602 0.00318625 0.01628252 0.02600239 0.0234704\n",
      " 0.02006302 0.03584937 0.05367661 0.05910026 0.04592681 0.00139934\n",
      " 0.03496965 0.00424059 0.00069167 0.01938577 0.01711769 0.04576852\n",
      " 0.03841058 0.02611277 0.04252081 0.03378079 0.06647566 0.04586348\n",
      " 0.05395821 0.03179608 0.03223708 0.0366299  0.01830949 0.0226866 ]\n"
     ]
    }
   ],
   "source": [
    "importances = final_rf.feature_importances_\n",
    "print(importances)"
   ]
  },
  {
   "cell_type": "code",
   "execution_count": 32,
   "id": "06e21380-2744-4982-94d5-a547648a5c30",
   "metadata": {},
   "outputs": [
    {
     "name": "stdout",
     "output_type": "stream",
     "text": [
      "Index(['annotation_sequence', 'feat_A', 'feat_C', 'feat_D', 'feat_E', 'feat_F',\n",
      "       'feat_G', 'feat_H', 'feat_I', 'feat_K', 'feat_L', 'feat_M', 'feat_N',\n",
      "       'feat_P', 'feat_Q', 'feat_R', 'feat_S', 'feat_T', 'feat_V', 'feat_W',\n",
      "       'feat_Y', 'annotation_atomrec', 'feat_PHI', 'feat_PSI', 'feat_TAU',\n",
      "       'feat_THETA', 'feat_BBSASA', 'feat_SCSASA', 'feat_pLDDT', 'feat_DSSP_H',\n",
      "       'feat_DSSP_B', 'feat_DSSP_E', 'feat_DSSP_G', 'feat_DSSP_I',\n",
      "       'feat_DSSP_T', 'feat_DSSP_S', 'feat_DSSP_6', 'feat_DSSP_7',\n",
      "       'feat_DSSP_8', 'feat_DSSP_9', 'feat_DSSP_10', 'feat_DSSP_11',\n",
      "       'feat_DSSP_12', 'feat_DSSP_13', 'coord_X', 'coord_Y', 'coord_Z',\n",
      "       'entry', 'entry_index'],\n",
      "      dtype='object')\n"
     ]
    }
   ],
   "source": [
    "df_train = pd.read_csv(\"af2_dataset_training_labeled.csv.gz\", index_col=0)\n",
    "feature_names = df_train.columns[:-1]\n",
    "print(feature_names)"
   ]
  },
  {
   "cell_type": "code",
   "execution_count": 35,
   "id": "d7856eff-424d-497a-8ded-a1ee108eb5f2",
   "metadata": {},
   "outputs": [],
   "source": [
    "feature_names = feature_names.drop(['annotation_atomrec'])"
   ]
  },
  {
   "cell_type": "code",
   "execution_count": 36,
   "id": "cf2c1ad4-d9a1-470c-8371-725aa67fa314",
   "metadata": {},
   "outputs": [],
   "source": [
    "forest_importances = pd.Series(importances, index=feature_names)"
   ]
  },
  {
   "cell_type": "code",
   "execution_count": 53,
   "id": "58f413c9-152e-4a2b-ab17-9ceea949103c",
   "metadata": {},
   "outputs": [],
   "source": [
    "import matplotlib.pyplot as plt\n",
    "import seaborn as sns"
   ]
  },
  {
   "cell_type": "code",
   "execution_count": 54,
   "id": "bf99ab86-7fb3-4b89-b136-c71cdd512370",
   "metadata": {},
   "outputs": [
    {
     "data": {
      "image/png": "[encoded data removed]",
      "text/plain": [
       "<Figure size 700x400 with 1 Axes>"
      ]
     },
     "metadata": {},
     "output_type": "display_data"
    }
   ],
   "source": [
    "tmp = pd.DataFrame({'Feature': feature_names, 'Feature importance': forest_importances})\n",
    "tmp = tmp.sort_values(by='Feature importance',ascending=False)\n",
    "plt.figure(figsize = (7,4))\n",
    "plt.title('Features importance',fontsize=14)\n",
    "s = sns.barplot(x='Feature',y='Feature importance',data=tmp)\n",
    "s.set_xticklabels(s.get_xticklabels(),rotation=90)\n",
    "plt.show()  "
   ]
  },
  {
   "cell_type": "code",
   "execution_count": 55,
   "id": "1f685439-5971-4c03-ab18-3614bcb23b23",
   "metadata": {},
   "outputs": [
    {
     "data": {
      "text/html": [
       "<div>\n",
       "<style scoped>\n",
       "    .dataframe tbody tr th:only-of-type {\n",
       "        vertical-align: middle;\n",
       "    }\n",
       "\n",
       "    .dataframe tbody tr th {\n",
       "        vertical-align: top;\n",
       "    }\n",
       "\n",
       "    .dataframe thead th {\n",
       "        text-align: right;\n",
       "    }\n",
       "</style>\n",
       "<table border=\"1\" class=\"dataframe\">\n",
       "  <thead>\n",
       "    <tr style=\"text-align: right;\">\n",
       "      <th></th>\n",
       "      <th>Feature</th>\n",
       "      <th>Feature importance</th>\n",
       "    </tr>\n",
       "  </thead>\n",
       "  <tbody>\n",
       "    <tr>\n",
       "      <th>feat_DSSP_11</th>\n",
       "      <td>feat_DSSP_11</td>\n",
       "      <td>0.066476</td>\n",
       "    </tr>\n",
       "    <tr>\n",
       "      <th>feat_pLDDT</th>\n",
       "      <td>feat_pLDDT</td>\n",
       "      <td>0.059100</td>\n",
       "    </tr>\n",
       "    <tr>\n",
       "      <th>feat_DSSP_13</th>\n",
       "      <td>feat_DSSP_13</td>\n",
       "      <td>0.053958</td>\n",
       "    </tr>\n",
       "    <tr>\n",
       "      <th>feat_SCSASA</th>\n",
       "      <td>feat_SCSASA</td>\n",
       "      <td>0.053677</td>\n",
       "    </tr>\n",
       "    <tr>\n",
       "      <th>feat_DSSP_H</th>\n",
       "      <td>feat_DSSP_H</td>\n",
       "      <td>0.045927</td>\n",
       "    </tr>\n",
       "    <tr>\n",
       "      <th>feat_DSSP_12</th>\n",
       "      <td>feat_DSSP_12</td>\n",
       "      <td>0.045863</td>\n",
       "    </tr>\n",
       "    <tr>\n",
       "      <th>feat_DSSP_6</th>\n",
       "      <td>feat_DSSP_6</td>\n",
       "      <td>0.045769</td>\n",
       "    </tr>\n",
       "    <tr>\n",
       "      <th>feat_DSSP_9</th>\n",
       "      <td>feat_DSSP_9</td>\n",
       "      <td>0.042521</td>\n",
       "    </tr>\n",
       "    <tr>\n",
       "      <th>feat_DSSP_7</th>\n",
       "      <td>feat_DSSP_7</td>\n",
       "      <td>0.038411</td>\n",
       "    </tr>\n",
       "    <tr>\n",
       "      <th>coord_Z</th>\n",
       "      <td>coord_Z</td>\n",
       "      <td>0.036630</td>\n",
       "    </tr>\n",
       "    <tr>\n",
       "      <th>feat_BBSASA</th>\n",
       "      <td>feat_BBSASA</td>\n",
       "      <td>0.035849</td>\n",
       "    </tr>\n",
       "    <tr>\n",
       "      <th>feat_DSSP_E</th>\n",
       "      <td>feat_DSSP_E</td>\n",
       "      <td>0.034970</td>\n",
       "    </tr>\n",
       "    <tr>\n",
       "      <th>feat_DSSP_10</th>\n",
       "      <td>feat_DSSP_10</td>\n",
       "      <td>0.033781</td>\n",
       "    </tr>\n",
       "    <tr>\n",
       "      <th>coord_Y</th>\n",
       "      <td>coord_Y</td>\n",
       "      <td>0.032237</td>\n",
       "    </tr>\n",
       "    <tr>\n",
       "      <th>coord_X</th>\n",
       "      <td>coord_X</td>\n",
       "      <td>0.031796</td>\n",
       "    </tr>\n",
       "    <tr>\n",
       "      <th>feat_DSSP_8</th>\n",
       "      <td>feat_DSSP_8</td>\n",
       "      <td>0.026113</td>\n",
       "    </tr>\n",
       "    <tr>\n",
       "      <th>feat_PSI</th>\n",
       "      <td>feat_PSI</td>\n",
       "      <td>0.026002</td>\n",
       "    </tr>\n",
       "    <tr>\n",
       "      <th>feat_TAU</th>\n",
       "      <td>feat_TAU</td>\n",
       "      <td>0.023470</td>\n",
       "    </tr>\n",
       "    <tr>\n",
       "      <th>entry_index</th>\n",
       "      <td>entry_index</td>\n",
       "      <td>0.022687</td>\n",
       "    </tr>\n",
       "    <tr>\n",
       "      <th>annotation_sequence</th>\n",
       "      <td>annotation_sequence</td>\n",
       "      <td>0.022330</td>\n",
       "    </tr>\n",
       "    <tr>\n",
       "      <th>feat_THETA</th>\n",
       "      <td>feat_THETA</td>\n",
       "      <td>0.020063</td>\n",
       "    </tr>\n",
       "    <tr>\n",
       "      <th>feat_DSSP_T</th>\n",
       "      <td>feat_DSSP_T</td>\n",
       "      <td>0.019386</td>\n",
       "    </tr>\n",
       "    <tr>\n",
       "      <th>entry</th>\n",
       "      <td>entry</td>\n",
       "      <td>0.018309</td>\n",
       "    </tr>\n",
       "    <tr>\n",
       "      <th>feat_DSSP_S</th>\n",
       "      <td>feat_DSSP_S</td>\n",
       "      <td>0.017118</td>\n",
       "    </tr>\n",
       "    <tr>\n",
       "      <th>feat_L</th>\n",
       "      <td>feat_L</td>\n",
       "      <td>0.016799</td>\n",
       "    </tr>\n",
       "    <tr>\n",
       "      <th>feat_PHI</th>\n",
       "      <td>feat_PHI</td>\n",
       "      <td>0.016283</td>\n",
       "    </tr>\n",
       "    <tr>\n",
       "      <th>feat_G</th>\n",
       "      <td>feat_G</td>\n",
       "      <td>0.011822</td>\n",
       "    </tr>\n",
       "    <tr>\n",
       "      <th>feat_S</th>\n",
       "      <td>feat_S</td>\n",
       "      <td>0.010019</td>\n",
       "    </tr>\n",
       "    <tr>\n",
       "      <th>feat_E</th>\n",
       "      <td>feat_E</td>\n",
       "      <td>0.008745</td>\n",
       "    </tr>\n",
       "    <tr>\n",
       "      <th>feat_K</th>\n",
       "      <td>feat_K</td>\n",
       "      <td>0.008165</td>\n",
       "    </tr>\n",
       "    <tr>\n",
       "      <th>feat_I</th>\n",
       "      <td>feat_I</td>\n",
       "      <td>0.007859</td>\n",
       "    </tr>\n",
       "    <tr>\n",
       "      <th>feat_F</th>\n",
       "      <td>feat_F</td>\n",
       "      <td>0.007574</td>\n",
       "    </tr>\n",
       "    <tr>\n",
       "      <th>feat_A</th>\n",
       "      <td>feat_A</td>\n",
       "      <td>0.007055</td>\n",
       "    </tr>\n",
       "    <tr>\n",
       "      <th>feat_V</th>\n",
       "      <td>feat_V</td>\n",
       "      <td>0.006397</td>\n",
       "    </tr>\n",
       "    <tr>\n",
       "      <th>feat_R</th>\n",
       "      <td>feat_R</td>\n",
       "      <td>0.005826</td>\n",
       "    </tr>\n",
       "    <tr>\n",
       "      <th>feat_P</th>\n",
       "      <td>feat_P</td>\n",
       "      <td>0.005043</td>\n",
       "    </tr>\n",
       "    <tr>\n",
       "      <th>feat_N</th>\n",
       "      <td>feat_N</td>\n",
       "      <td>0.004982</td>\n",
       "    </tr>\n",
       "    <tr>\n",
       "      <th>feat_D</th>\n",
       "      <td>feat_D</td>\n",
       "      <td>0.004755</td>\n",
       "    </tr>\n",
       "    <tr>\n",
       "      <th>feat_T</th>\n",
       "      <td>feat_T</td>\n",
       "      <td>0.004428</td>\n",
       "    </tr>\n",
       "    <tr>\n",
       "      <th>feat_DSSP_G</th>\n",
       "      <td>feat_DSSP_G</td>\n",
       "      <td>0.004241</td>\n",
       "    </tr>\n",
       "    <tr>\n",
       "      <th>feat_Q</th>\n",
       "      <td>feat_Q</td>\n",
       "      <td>0.004001</td>\n",
       "    </tr>\n",
       "    <tr>\n",
       "      <th>feat_Y</th>\n",
       "      <td>feat_Y</td>\n",
       "      <td>0.003186</td>\n",
       "    </tr>\n",
       "    <tr>\n",
       "      <th>feat_H</th>\n",
       "      <td>feat_H</td>\n",
       "      <td>0.002612</td>\n",
       "    </tr>\n",
       "    <tr>\n",
       "      <th>feat_M</th>\n",
       "      <td>feat_M</td>\n",
       "      <td>0.002474</td>\n",
       "    </tr>\n",
       "    <tr>\n",
       "      <th>feat_C</th>\n",
       "      <td>feat_C</td>\n",
       "      <td>0.001777</td>\n",
       "    </tr>\n",
       "    <tr>\n",
       "      <th>feat_W</th>\n",
       "      <td>feat_W</td>\n",
       "      <td>0.001426</td>\n",
       "    </tr>\n",
       "    <tr>\n",
       "      <th>feat_DSSP_B</th>\n",
       "      <td>feat_DSSP_B</td>\n",
       "      <td>0.001399</td>\n",
       "    </tr>\n",
       "    <tr>\n",
       "      <th>feat_DSSP_I</th>\n",
       "      <td>feat_DSSP_I</td>\n",
       "      <td>0.000692</td>\n",
       "    </tr>\n",
       "  </tbody>\n",
       "</table>\n",
       "</div>"
      ],
      "text/plain": [
       "                                 Feature  Feature importance\n",
       "feat_DSSP_11                feat_DSSP_11            0.066476\n",
       "feat_pLDDT                    feat_pLDDT            0.059100\n",
       "feat_DSSP_13                feat_DSSP_13            0.053958\n",
       "feat_SCSASA                  feat_SCSASA            0.053677\n",
       "feat_DSSP_H                  feat_DSSP_H            0.045927\n",
       "feat_DSSP_12                feat_DSSP_12            0.045863\n",
       "feat_DSSP_6                  feat_DSSP_6            0.045769\n",
       "feat_DSSP_9                  feat_DSSP_9            0.042521\n",
       "feat_DSSP_7                  feat_DSSP_7            0.038411\n",
       "coord_Z                          coord_Z            0.036630\n",
       "feat_BBSASA                  feat_BBSASA            0.035849\n",
       "feat_DSSP_E                  feat_DSSP_E            0.034970\n",
       "feat_DSSP_10                feat_DSSP_10            0.033781\n",
       "coord_Y                          coord_Y            0.032237\n",
       "coord_X                          coord_X            0.031796\n",
       "feat_DSSP_8                  feat_DSSP_8            0.026113\n",
       "feat_PSI                        feat_PSI            0.026002\n",
       "feat_TAU                        feat_TAU            0.023470\n",
       "entry_index                  entry_index            0.022687\n",
       "annotation_sequence  annotation_sequence            0.022330\n",
       "feat_THETA                    feat_THETA            0.020063\n",
       "feat_DSSP_T                  feat_DSSP_T            0.019386\n",
       "entry                              entry            0.018309\n",
       "feat_DSSP_S                  feat_DSSP_S            0.017118\n",
       "feat_L                            feat_L            0.016799\n",
       "feat_PHI                        feat_PHI            0.016283\n",
       "feat_G                            feat_G            0.011822\n",
       "feat_S                            feat_S            0.010019\n",
       "feat_E                            feat_E            0.008745\n",
       "feat_K                            feat_K            0.008165\n",
       "feat_I                            feat_I            0.007859\n",
       "feat_F                            feat_F            0.007574\n",
       "feat_A                            feat_A            0.007055\n",
       "feat_V                            feat_V            0.006397\n",
       "feat_R                            feat_R            0.005826\n",
       "feat_P                            feat_P            0.005043\n",
       "feat_N                            feat_N            0.004982\n",
       "feat_D                            feat_D            0.004755\n",
       "feat_T                            feat_T            0.004428\n",
       "feat_DSSP_G                  feat_DSSP_G            0.004241\n",
       "feat_Q                            feat_Q            0.004001\n",
       "feat_Y                            feat_Y            0.003186\n",
       "feat_H                            feat_H            0.002612\n",
       "feat_M                            feat_M            0.002474\n",
       "feat_C                            feat_C            0.001777\n",
       "feat_W                            feat_W            0.001426\n",
       "feat_DSSP_B                  feat_DSSP_B            0.001399\n",
       "feat_DSSP_I                  feat_DSSP_I            0.000692"
      ]
     },
     "execution_count": 55,
     "metadata": {},
     "output_type": "execute_result"
    }
   ],
   "source": [
    "tmp"
   ]
  },
  {
   "cell_type": "code",
   "execution_count": null,
   "id": "19b0a7dc-729a-4ebc-a05d-90abd4ffa4c7",
   "metadata": {},
   "outputs": [],
   "source": []
  },
  {
   "cell_type": "markdown",
   "id": "e89a33fc-47fc-477f-9e88-adebbd15b00d",
   "metadata": {},
   "source": [
    "### Save the model"
   ]
  },
  {
   "cell_type": "code",
   "execution_count": 28,
   "id": "96075cf8-728b-4348-94cb-44c1bb3062b8",
   "metadata": {},
   "outputs": [],
   "source": [
    "import pickle\n",
    "filename = 'kebing_model.sav'\n",
    "pickle.dump(final_rf, open(filename, 'wb'))"
   ]
  },
  {
   "cell_type": "code",
   "execution_count": null,
   "id": "b8989484-86ae-4532-8720-e2a8bb035f3d",
   "metadata": {},
   "outputs": [],
   "source": []
  },
  {
   "cell_type": "code",
   "execution_count": null,
   "id": "9d051706-db25-4285-9829-08efbcc1a4e4",
   "metadata": {},
   "outputs": [],
   "source": []
  },
  {
   "cell_type": "markdown",
   "id": "f74ece59-0733-42ca-bfbd-ebd23f9596d7",
   "metadata": {},
   "source": [
    "### predict"
   ]
  },
  {
   "cell_type": "code",
   "execution_count": null,
   "id": "39328a1a-5bee-48d9-8637-be0a9945c84a",
   "metadata": {},
   "outputs": [],
   "source": [
    "final_rf.predict()"
   ]
  },
  {
   "cell_type": "code",
   "execution_count": 30,
   "id": "8accd975-5a2d-4096-9639-1d56cff2936b",
   "metadata": {},
   "outputs": [
    {
     "name": "stdout",
     "output_type": "stream",
     "text": [
      "0.9999962956171594\n"
     ]
    }
   ],
   "source": [
    "loaded_model = pickle.load(open(filename, 'rb'))\n",
    "result = loaded_model.score(X_train, y_train)\n",
    "print(result)"
   ]
  }
 ],
 "metadata": {
  "kernelspec": {
   "display_name": "Python 3",
   "language": "python",
   "name": "python3"
  },
  "language_info": {
   "codemirror_mode": {
    "name": "ipython",
    "version": 3
   },
   "file_extension": ".py",
   "mimetype": "text/x-python",
   "name": "python",
   "nbconvert_exporter": "python",
   "pygments_lexer": "ipython3",
   "version": "3.10.6"
  }
 },
 "nbformat": 4,
 "nbformat_minor": 5
}
